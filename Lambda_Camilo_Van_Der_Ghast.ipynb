{
  "nbformat": 4,
  "nbformat_minor": 0,
  "metadata": {
    "colab": {
      "provenance": []
    },
    "kernelspec": {
      "name": "python3",
      "display_name": "Python 3"
    },
    "language_info": {
      "name": "python"
    }
  },
  "cells": [
    {
      "cell_type": "markdown",
      "source": [
        "#LAMBDA O FUNCIONES ANÓNIMAS\n",
        "- Funciones pequeñas, de fácil acceso y rápídas.\n",
        "- Puede contener varops argumentos, pero sólo una expresión.\n",
        "Definiendo lambda:\n",
        "lambda (parámetro): expresión"
      ],
      "metadata": {
        "id": "n2Jdl60i9yf7"
      }
    },
    {
      "cell_type": "code",
      "source": [
        "#Función que eleve al cuadrado todos los elementos de una lista.\n",
        "lista=[3,7,6,9]\n",
        "#Comprensión\n",
        "lista2=[n**2 for n in lista]\n",
        "lista2"
      ],
      "metadata": {
        "colab": {
          "base_uri": "https://localhost:8080/"
        },
        "id": "jWER3-cx-LjH",
        "outputId": "0cc91875-bd13-42b0-df8b-dc001e17a019"
      },
      "execution_count": 2,
      "outputs": [
        {
          "output_type": "execute_result",
          "data": {
            "text/plain": [
              "[9, 49, 36, 81]"
            ]
          },
          "metadata": {},
          "execution_count": 2
        }
      ]
    },
    {
      "cell_type": "code",
      "source": [
        "def elevar(*n): #Se coloca * para indicar que va a ingresar una lista\n",
        "  for i in range(len(n)):\n",
        "    print(int(n[i])**2)\n",
        "elevar(*lista)"
      ],
      "metadata": {
        "colab": {
          "base_uri": "https://localhost:8080/"
        },
        "id": "ndLm96HV-lLv",
        "outputId": "26b2c868-ed65-41b6-ebaa-72f4d422e5e1"
      },
      "execution_count": 3,
      "outputs": [
        {
          "output_type": "stream",
          "name": "stdout",
          "text": [
            "9\n",
            "49\n",
            "36\n",
            "81\n"
          ]
        }
      ]
    },
    {
      "cell_type": "code",
      "source": [
        "lambda1=lambda x:x**2\n",
        "lambda1(2)"
      ],
      "metadata": {
        "colab": {
          "base_uri": "https://localhost:8080/"
        },
        "id": "6wW0SJBIAWMf",
        "outputId": "60acda48-fed5-4db3-8e1c-c27b5db8b608"
      },
      "execution_count": 4,
      "outputs": [
        {
          "output_type": "execute_result",
          "data": {
            "text/plain": [
              "4"
            ]
          },
          "metadata": {},
          "execution_count": 4
        }
      ]
    },
    {
      "cell_type": "code",
      "source": [
        "lambda2=lambda x,y:x**y\n",
        "lambda2(2,4)"
      ],
      "metadata": {
        "colab": {
          "base_uri": "https://localhost:8080/"
        },
        "id": "pbyz5WYPAqdH",
        "outputId": "ebc8fc49-94c6-49f5-c38e-e7594aa36598"
      },
      "execution_count": 5,
      "outputs": [
        {
          "output_type": "execute_result",
          "data": {
            "text/plain": [
              "16"
            ]
          },
          "metadata": {},
          "execution_count": 5
        }
      ]
    },
    {
      "cell_type": "code",
      "source": [
        "lambda3=lambda num:True if num**2>=0 else False\n",
        "lambda3(4)"
      ],
      "metadata": {
        "colab": {
          "base_uri": "https://localhost:8080/"
        },
        "id": "bbw-fBi1A88G",
        "outputId": "c7d7d08e-8dbe-4af1-ab18-cae428371b77"
      },
      "execution_count": 6,
      "outputs": [
        {
          "output_type": "execute_result",
          "data": {
            "text/plain": [
              "True"
            ]
          },
          "metadata": {},
          "execution_count": 6
        }
      ]
    },
    {
      "cell_type": "code",
      "source": [
        "lambda3(3)"
      ],
      "metadata": {
        "colab": {
          "base_uri": "https://localhost:8080/"
        },
        "id": "vfuuh8bHBcT5",
        "outputId": "0273fd78-eb97-4de5-f700-6a91c096b0f5"
      },
      "execution_count": 7,
      "outputs": [
        {
          "output_type": "execute_result",
          "data": {
            "text/plain": [
              "True"
            ]
          },
          "metadata": {},
          "execution_count": 7
        }
      ]
    },
    {
      "cell_type": "code",
      "source": [
        "letras={\"A\":3,\"B\":6,\"C\":6}\n",
        "sorted(letras,key=lambda x:letras[x]%3)"
      ],
      "metadata": {
        "colab": {
          "base_uri": "https://localhost:8080/"
        },
        "id": "0IIB5j8eDXci",
        "outputId": "e78fdfe8-cc46-4d99-b346-fce8a1010de8"
      },
      "execution_count": 8,
      "outputs": [
        {
          "output_type": "execute_result",
          "data": {
            "text/plain": [
              "['A', 'B', 'C']"
            ]
          },
          "metadata": {},
          "execution_count": 8
        }
      ]
    },
    {
      "cell_type": "code",
      "source": [
        "import random\n",
        "mi_lista=[1,2,3,4,5,6,7,8,9,10]\n",
        "filtrado=[n for n in mi_lista if n%2!=0]\n",
        "filtrado"
      ],
      "metadata": {
        "colab": {
          "base_uri": "https://localhost:8080/"
        },
        "id": "ojxAvzjWEGPi",
        "outputId": "7754d5ad-54e9-4cf9-8290-f4e5ee55cea1"
      },
      "execution_count": 9,
      "outputs": [
        {
          "output_type": "execute_result",
          "data": {
            "text/plain": [
              "[1, 3, 5, 7, 9]"
            ]
          },
          "metadata": {},
          "execution_count": 9
        }
      ]
    },
    {
      "cell_type": "code",
      "source": [
        "filtrado2=[key=lambda x: if x%2!=]"
      ],
      "metadata": {
        "colab": {
          "base_uri": "https://localhost:8080/",
          "height": 130
        },
        "id": "EzjFYtO-FwlY",
        "outputId": "d0f66c34-edd8-42d4-fbb6-c0435371b996"
      },
      "execution_count": 10,
      "outputs": [
        {
          "output_type": "error",
          "ename": "SyntaxError",
          "evalue": "ignored",
          "traceback": [
            "\u001b[0;36m  File \u001b[0;32m\"<ipython-input-10-ff3a58241d0a>\"\u001b[0;36m, line \u001b[0;32m1\u001b[0m\n\u001b[0;31m    filtrado2=[key=lambda x: if x%2!=]\u001b[0m\n\u001b[0m                  ^\u001b[0m\n\u001b[0;31mSyntaxError\u001b[0m\u001b[0;31m:\u001b[0m invalid syntax\n"
          ]
        }
      ]
    },
    {
      "cell_type": "code",
      "source": [
        "mi_lista2=[n for n in range (0,11)]\n",
        "mi_lista2"
      ],
      "metadata": {
        "colab": {
          "base_uri": "https://localhost:8080/"
        },
        "id": "IVNRTVfxE0y5",
        "outputId": "9ca10747-c0ce-43ac-87f9-64a15d51246e"
      },
      "execution_count": 11,
      "outputs": [
        {
          "output_type": "execute_result",
          "data": {
            "text/plain": [
              "[0, 1, 2, 3, 4, 5, 6, 7, 8, 9, 10]"
            ]
          },
          "metadata": {},
          "execution_count": 11
        }
      ]
    },
    {
      "cell_type": "code",
      "source": [
        "mi_lista3=[random.randrange(1,11) for i in range(10)]\n",
        "mi_lista3"
      ],
      "metadata": {
        "colab": {
          "base_uri": "https://localhost:8080/"
        },
        "id": "Go9h2_T9FAOH",
        "outputId": "0313b96d-c8c8-4a09-9bc2-eae34d57a5a4"
      },
      "execution_count": 12,
      "outputs": [
        {
          "output_type": "execute_result",
          "data": {
            "text/plain": [
              "[8, 6, 8, 9, 3, 6, 7, 4, 7, 1]"
            ]
          },
          "metadata": {},
          "execution_count": 12
        }
      ]
    },
    {
      "cell_type": "code",
      "source": [
        "mi_lista4=[i for i in range (1,11)]"
      ],
      "metadata": {
        "id": "U4QW0jmNGMDm"
      },
      "execution_count": 13,
      "outputs": []
    },
    {
      "cell_type": "markdown",
      "source": [
        "##Funciones de orden superior\n"
      ],
      "metadata": {
        "id": "H-Tz87YUGh39"
      }
    },
    {
      "cell_type": "markdown",
      "source": [
        "#1. MAP\n",
        "\n",
        "La función se aplica a cada elemento de la lista\n",
        "\n",
        "map(una_función,una_lista)"
      ],
      "metadata": {
        "id": "lISCrn4FK7jm"
      }
    },
    {
      "cell_type": "code",
      "source": [
        "cuadrados=[] #Creanco una lista vacía\n",
        "for i in lista:\n",
        "  cuadrados.append(i**2)\n",
        "print(cuadrados)"
      ],
      "metadata": {
        "colab": {
          "base_uri": "https://localhost:8080/"
        },
        "id": "6KB3tbv7HW5e",
        "outputId": "7ff67e8b-d9ad-473b-dd9d-34d5643642a2"
      },
      "execution_count": 14,
      "outputs": [
        {
          "output_type": "stream",
          "name": "stdout",
          "text": [
            "[9, 49, 36, 81]\n"
          ]
        }
      ]
    },
    {
      "cell_type": "code",
      "source": [
        "cuadrado2=[x**2 for x in lista] #Comprensión\n",
        "cuadrado2"
      ],
      "metadata": {
        "colab": {
          "base_uri": "https://localhost:8080/"
        },
        "id": "uNiQMtFlIhjm",
        "outputId": "9c75fe1f-f195-4d11-eb4a-284233afa8b7"
      },
      "execution_count": 15,
      "outputs": [
        {
          "output_type": "execute_result",
          "data": {
            "text/plain": [
              "[9, 49, 36, 81]"
            ]
          },
          "metadata": {},
          "execution_count": 15
        }
      ]
    },
    {
      "cell_type": "code",
      "source": [
        "cuadrado3=list(map(lambda x:x**2,lista))\n",
        "cuadrado3"
      ],
      "metadata": {
        "colab": {
          "base_uri": "https://localhost:8080/"
        },
        "id": "pYBDO76kIr8t",
        "outputId": "c7639059-928c-476c-e3e1-c89b609d4f81"
      },
      "execution_count": 16,
      "outputs": [
        {
          "output_type": "execute_result",
          "data": {
            "text/plain": [
              "[9, 49, 36, 81]"
            ]
          },
          "metadata": {},
          "execution_count": 16
        }
      ]
    },
    {
      "cell_type": "markdown",
      "source": [
        "#2. FILTER\n",
        "Filtrar. Si se cumple la condición devuelve un True\n",
        "\n",
        "Se define: filtrer(una_funcion,una_lista)"
      ],
      "metadata": {
        "id": "tkbN03piJ5Wp"
      }
    },
    {
      "cell_type": "code",
      "source": [
        "valores=[num for num in range(1,10)]\n",
        "pares=[]\n",
        "for valor in valores:\n",
        "  if valor%2==0:\n",
        "    pares.append(valor)\n",
        "    print(pares)"
      ],
      "metadata": {
        "colab": {
          "base_uri": "https://localhost:8080/"
        },
        "id": "civkWwBpKUeX",
        "outputId": "a7817a3b-c168-4233-f787-aeed3e68d3e5"
      },
      "execution_count": 17,
      "outputs": [
        {
          "output_type": "stream",
          "name": "stdout",
          "text": [
            "[2]\n",
            "[2, 4]\n",
            "[2, 4, 6]\n",
            "[2, 4, 6, 8]\n"
          ]
        }
      ]
    },
    {
      "cell_type": "code",
      "source": [
        "valor2=[lol for lol in valores if lol%2==0]\n",
        "valor2"
      ],
      "metadata": {
        "colab": {
          "base_uri": "https://localhost:8080/"
        },
        "id": "s3hhs7fVLE8s",
        "outputId": "692df580-894f-4f41-f6a7-df8f6110ffbb"
      },
      "execution_count": 18,
      "outputs": [
        {
          "output_type": "execute_result",
          "data": {
            "text/plain": [
              "[2, 4, 6, 8]"
            ]
          },
          "metadata": {},
          "execution_count": 18
        }
      ]
    },
    {
      "cell_type": "code",
      "source": [
        "valor3=list(filter(lambda julito: julito%2==0,valores))\n",
        "valor3"
      ],
      "metadata": {
        "colab": {
          "base_uri": "https://localhost:8080/"
        },
        "id": "gWU8-bzgLeb1",
        "outputId": "c7ce599f-f737-48ee-dd67-a1f45c00b496"
      },
      "execution_count": 19,
      "outputs": [
        {
          "output_type": "execute_result",
          "data": {
            "text/plain": [
              "[2, 4, 6, 8]"
            ]
          },
          "metadata": {},
          "execution_count": 19
        }
      ]
    },
    {
      "cell_type": "markdown",
      "source": [
        "#3.REDUCE\n",
        "Es un acumulador\n",
        "**Para usar REDUCE se debe importar el módulo functools**"
      ],
      "metadata": {
        "id": "dObV4kSZL8J9"
      }
    },
    {
      "cell_type": "code",
      "source": [
        "from functools import reduce\n",
        "\n",
        "def suma (lista):\n",
        "  suma =0\n",
        "  for i in lista:\n",
        "    suma+=i #suma=suma+i\n",
        "  return suma\n",
        "\n",
        "print(suma(valores))"
      ],
      "metadata": {
        "colab": {
          "base_uri": "https://localhost:8080/"
        },
        "id": "5W5V_vD2MO9U",
        "outputId": "bb47ca57-9dc0-418f-dd33-8e485c8ac85b"
      },
      "execution_count": 20,
      "outputs": [
        {
          "output_type": "stream",
          "name": "stdout",
          "text": [
            "45\n"
          ]
        }
      ]
    },
    {
      "cell_type": "code",
      "source": [
        "suma1=reduce(lambda x,y:x+y,valores)\n",
        "suma1"
      ],
      "metadata": {
        "colab": {
          "base_uri": "https://localhost:8080/"
        },
        "id": "BS-QWEw-OJP0",
        "outputId": "2a00427e-b756-4c24-c70c-a30ef435d243"
      },
      "execution_count": 21,
      "outputs": [
        {
          "output_type": "execute_result",
          "data": {
            "text/plain": [
              "45"
            ]
          },
          "metadata": {},
          "execution_count": 21
        }
      ]
    },
    {
      "cell_type": "code",
      "source": [
        "letras.values()"
      ],
      "metadata": {
        "colab": {
          "base_uri": "https://localhost:8080/"
        },
        "id": "CaMtpim7PDdk",
        "outputId": "f8591675-c699-4e1b-ebef-9dee6a59f612"
      },
      "execution_count": 22,
      "outputs": [
        {
          "output_type": "execute_result",
          "data": {
            "text/plain": [
              "dict_values([3, 6, 6])"
            ]
          },
          "metadata": {},
          "execution_count": 22
        }
      ]
    },
    {
      "cell_type": "code",
      "source": [
        "letras.keys()"
      ],
      "metadata": {
        "colab": {
          "base_uri": "https://localhost:8080/"
        },
        "id": "BRr5AafXPLVb",
        "outputId": "d6d29e03-83a5-4fd1-c877-617bf95e23a3"
      },
      "execution_count": 23,
      "outputs": [
        {
          "output_type": "execute_result",
          "data": {
            "text/plain": [
              "dict_keys(['A', 'B', 'C'])"
            ]
          },
          "metadata": {},
          "execution_count": 23
        }
      ]
    },
    {
      "cell_type": "code",
      "source": [
        "letras.items()"
      ],
      "metadata": {
        "colab": {
          "base_uri": "https://localhost:8080/"
        },
        "id": "JlieSwx9PO0L",
        "outputId": "df971914-ed13-4bf4-e309-ac35f7aa5ec3"
      },
      "execution_count": 24,
      "outputs": [
        {
          "output_type": "execute_result",
          "data": {
            "text/plain": [
              "dict_items([('A', 3), ('B', 6), ('C', 6)])"
            ]
          },
          "metadata": {},
          "execution_count": 24
        }
      ]
    }
  ]
}