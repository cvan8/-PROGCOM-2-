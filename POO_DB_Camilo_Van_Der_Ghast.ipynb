{
  "nbformat": 4,
  "nbformat_minor": 0,
  "metadata": {
    "colab": {
      "provenance": []
    },
    "kernelspec": {
      "name": "python3",
      "display_name": "Python 3"
    },
    "language_info": {
      "name": "python"
    }
  },
  "cells": [
    {
      "cell_type": "code",
      "execution_count": 2,
      "metadata": {
        "id": "cZvto3H8OXgd"
      },
      "outputs": [],
      "source": [
        "class Sayayin():\n",
        "  def _init_(self,nombre,cabello, ojos, fuerza, estatura,cola_de_mono):\n",
        "    self.cabello=\"negro\"\n",
        "    self.ojos=\"negro\"\n",
        "    self.fuerza=fuerza\n",
        "    self.estatura=estatura\n",
        "    self.cola_de_mono=True\n",
        "    self.nombre=nombre\n",
        "  \n",
        "  def color_cabello(self,fuerza_base):\n",
        "    fuerza_t=90000\n",
        "    if fuerza_base*10>=fuerza_t:\n",
        "      print(\"Alcanza nivel sayayin fase 1\")\n",
        "      self.cabello=\"rubio\"\n",
        "    elif fuerza_base*20>=fuerza_t*20:\n",
        "      print(\"Alcanza nivel sayayin fase 2\")\n",
        "      self.cabello=\"rubio\"\n",
        "    elif fuerza_base*1000>=fuerza_t*1000:\n",
        "      print(\"Alcanza nivel sayayin fase 4\")\n",
        "      self.cabello=\"negro\"\n",
        "      if self.cola==False:\n",
        "        self.cola=True\n",
        "    else:\n",
        "      print(self.nombre,\" Alcanza nivel sayayin ultrainstinto\")\n",
        "      self.cabello=\"cenizo\"\n",
        "\n",
        "  def luna(self,luna):\n",
        "    if self.cola and luna==\"luna llena\":\n",
        "      print(self.nombre,\" se convierte en ozaru\")\n",
        "      self.fuerza=self.fuerza*50\n",
        "    else:\n",
        "      print(self.nombre, \" no se transforma en na':v\")\n",
        "\n",
        "  def trabajo(self,trabajo):\n",
        "    if trabajo==1:\n",
        "      print(f\"{self.nombre} es de tipo guerrero\")\n",
        "    elif trabajo==2:\n",
        "      print(f\"{self.nombre} es de tipo liendra de freezer\")\n",
        "    elif trabajo==3:\n",
        "      print(f\"{self.nombre} es de tipo mercenarios\")\n",
        "    else:\n",
        "      print(f\"{self.nombre} es de la realeza\")"
      ]
    },
    {
      "cell_type": "code",
      "source": [
        "class Humano():\n",
        "  def _init_(self,nombre,cabello, ojos, fuerza, estatura):\n",
        "    self.cabello=cabello\n",
        "    self.ojos=ojos\n",
        "    self.fuerza=fuerza\n",
        "    self.estatura=estatura\n",
        "    self.nombre=nombre\n",
        "  \n",
        "  def color_cabello(self,tinte):\n",
        "    if tinte==0:\n",
        "      print(self.nombre,\"ha decolorado su cabello\")\n",
        "      self.cabello=\"amarillo\"\n",
        "    elif tinte==2:\n",
        "      print(self.nombre,\"ha colorado su cabello de lila\")\n",
        "      self.cabello=\"lila\"\n",
        "    elif tinte==3:\n",
        "      print(self.nombre,\"ha colorado su cabello nuez\")\n",
        "      self.cabello=\"nuez\"\n",
        "    else:\n",
        "      print(self.nombre,\"ha colorado su cabello canoso\")\n",
        "      self.cabello=\"canoso\"\n",
        "\n",
        "  def trabajo(self,trabajo):\n",
        "    if trabajo==1:\n",
        "      print(f\"{self.nombre} trabaja como callcenter\")\n",
        "    elif trabajo==2:\n",
        "      print(f\"{self.nombre} trabaja como vendedor de bonice\")\n",
        "    elif trabajo==3:\n",
        "      print(f\"{self.nombre} trabaja como tombo\")\n",
        "    elif trabajo==4:\n",
        "      print(f\"{self.nombre} trabaja como programador de python\")\n",
        "    else:\n",
        "      print(f\"{self.nombre} es nini\")"
      ],
      "metadata": {
        "id": "XkHqPYcFOc02"
      },
      "execution_count": 3,
      "outputs": []
    },
    {
      "cell_type": "code",
      "source": [
        "class Hibrido(Sayayin,Humano):\n",
        "  def __init__(self.trabajo)"
      ],
      "metadata": {
        "id": "FwtS5DJsSYtP"
      },
      "execution_count": 4,
      "outputs": []
    },
    {
      "cell_type": "code",
      "source": [
        "guku=Sayayin(\"Kakaroto\",\"arcoíris\",\"verde-dorado\",100,50,True)\n",
        "goku.__dict__"
      ],
      "metadata": {
        "colab": {
          "base_uri": "https://localhost:8080/",
          "height": 183
        },
        "id": "zq6rqocaSmTN",
        "outputId": "341f5837-f509-4173-b2d4-41e524486296"
      },
      "execution_count": 5,
      "outputs": [
        {
          "output_type": "error",
          "ename": "TypeError",
          "evalue": "ignored",
          "traceback": [
            "\u001b[0;31m---------------------------------------------------------------------------\u001b[0m",
            "\u001b[0;31mTypeError\u001b[0m                                 Traceback (most recent call last)",
            "\u001b[0;32m<ipython-input-5-98c14d73bc4d>\u001b[0m in \u001b[0;36m<module>\u001b[0;34m\u001b[0m\n\u001b[0;32m----> 1\u001b[0;31m \u001b[0mguku\u001b[0m\u001b[0;34m=\u001b[0m\u001b[0mSayayin\u001b[0m\u001b[0;34m(\u001b[0m\u001b[0;34m\"Kakaroto\"\u001b[0m\u001b[0;34m,\u001b[0m\u001b[0;34m\"arcoíris\"\u001b[0m\u001b[0;34m,\u001b[0m\u001b[0;34m\"verde-dorado\"\u001b[0m\u001b[0;34m,\u001b[0m\u001b[0;36m100\u001b[0m\u001b[0;34m,\u001b[0m\u001b[0;36m50\u001b[0m\u001b[0;34m,\u001b[0m\u001b[0;32mTrue\u001b[0m\u001b[0;34m)\u001b[0m\u001b[0;34m\u001b[0m\u001b[0;34m\u001b[0m\u001b[0m\n\u001b[0m\u001b[1;32m      2\u001b[0m \u001b[0mgoku\u001b[0m\u001b[0;34m.\u001b[0m\u001b[0m__dict__\u001b[0m\u001b[0;34m\u001b[0m\u001b[0;34m\u001b[0m\u001b[0m\n",
            "\u001b[0;31mTypeError\u001b[0m: Sayayin() takes no arguments"
          ]
        }
      ]
    },
    {
      "cell_type": "code",
      "source": [
        "goku.color_cabello(10000)"
      ],
      "metadata": {
        "colab": {
          "base_uri": "https://localhost:8080/",
          "height": 165
        },
        "id": "wIamBuGLTxlD",
        "outputId": "3702846d-4563-488c-8e3c-9dbb2799468e"
      },
      "execution_count": 11,
      "outputs": [
        {
          "output_type": "error",
          "ename": "NameError",
          "evalue": "ignored",
          "traceback": [
            "\u001b[0;31m---------------------------------------------------------------------------\u001b[0m",
            "\u001b[0;31mNameError\u001b[0m                                 Traceback (most recent call last)",
            "\u001b[0;32m<ipython-input-11-1af3364c8e6a>\u001b[0m in \u001b[0;36m<module>\u001b[0;34m\u001b[0m\n\u001b[0;32m----> 1\u001b[0;31m \u001b[0mgoku\u001b[0m\u001b[0;34m.\u001b[0m\u001b[0mcolor_cabello\u001b[0m\u001b[0;34m(\u001b[0m\u001b[0;36m10000\u001b[0m\u001b[0;34m)\u001b[0m\u001b[0;34m\u001b[0m\u001b[0;34m\u001b[0m\u001b[0m\n\u001b[0m",
            "\u001b[0;31mNameError\u001b[0m: name 'goku' is not defined"
          ]
        }
      ]
    },
    {
      "cell_type": "code",
      "source": [
        "goku.__dict__"
      ],
      "metadata": {
        "colab": {
          "base_uri": "https://localhost:8080/",
          "height": 165
        },
        "id": "JCh0V8NLT3ND",
        "outputId": "f07613cf-5572-4c7a-c499-3c230421ea98"
      },
      "execution_count": 12,
      "outputs": [
        {
          "output_type": "error",
          "ename": "NameError",
          "evalue": "ignored",
          "traceback": [
            "\u001b[0;31m---------------------------------------------------------------------------\u001b[0m",
            "\u001b[0;31mNameError\u001b[0m                                 Traceback (most recent call last)",
            "\u001b[0;32m<ipython-input-12-fe31b88b28fd>\u001b[0m in \u001b[0;36m<module>\u001b[0;34m\u001b[0m\n\u001b[0;32m----> 1\u001b[0;31m \u001b[0mgoku\u001b[0m\u001b[0;34m.\u001b[0m\u001b[0m__dict__\u001b[0m\u001b[0;34m\u001b[0m\u001b[0;34m\u001b[0m\u001b[0m\n\u001b[0m",
            "\u001b[0;31mNameError\u001b[0m: name 'goku' is not defined"
          ]
        }
      ]
    },
    {
      "cell_type": "code",
      "source": [
        "milk=Humano(\"Milk\",\"negros\",\"negro\",100,50)"
      ],
      "metadata": {
        "colab": {
          "base_uri": "https://localhost:8080/",
          "height": 165
        },
        "id": "Eh_BfQRMTRsV",
        "outputId": "5f39c124-acba-4953-e03a-2db96008c5c5"
      },
      "execution_count": 13,
      "outputs": [
        {
          "output_type": "error",
          "ename": "TypeError",
          "evalue": "ignored",
          "traceback": [
            "\u001b[0;31m---------------------------------------------------------------------------\u001b[0m",
            "\u001b[0;31mTypeError\u001b[0m                                 Traceback (most recent call last)",
            "\u001b[0;32m<ipython-input-13-9946d40bb4a2>\u001b[0m in \u001b[0;36m<module>\u001b[0;34m\u001b[0m\n\u001b[0;32m----> 1\u001b[0;31m \u001b[0mmilk\u001b[0m\u001b[0;34m=\u001b[0m\u001b[0mHumano\u001b[0m\u001b[0;34m(\u001b[0m\u001b[0;34m\"Milk\"\u001b[0m\u001b[0;34m,\u001b[0m\u001b[0;34m\"negros\"\u001b[0m\u001b[0;34m,\u001b[0m\u001b[0;34m\"negro\"\u001b[0m\u001b[0;34m,\u001b[0m\u001b[0;36m100\u001b[0m\u001b[0;34m,\u001b[0m\u001b[0;36m50\u001b[0m\u001b[0;34m)\u001b[0m\u001b[0;34m\u001b[0m\u001b[0;34m\u001b[0m\u001b[0m\n\u001b[0m",
            "\u001b[0;31mTypeError\u001b[0m: Humano() takes no arguments"
          ]
        }
      ]
    },
    {
      "cell_type": "code",
      "source": [
        "gohan=Hibrido(\"Gohan\",\"negro\",\"aguamarina\",1000,50,True)"
      ],
      "metadata": {
        "colab": {
          "base_uri": "https://localhost:8080/",
          "height": 165
        },
        "id": "iQzdPPqyVUzq",
        "outputId": "b6efad7f-b450-4b19-83f8-7c7edfd29e8d"
      },
      "execution_count": 14,
      "outputs": [
        {
          "output_type": "error",
          "ename": "TypeError",
          "evalue": "ignored",
          "traceback": [
            "\u001b[0;31m---------------------------------------------------------------------------\u001b[0m",
            "\u001b[0;31mTypeError\u001b[0m                                 Traceback (most recent call last)",
            "\u001b[0;32m<ipython-input-14-2e768cdeb182>\u001b[0m in \u001b[0;36m<module>\u001b[0;34m\u001b[0m\n\u001b[0;32m----> 1\u001b[0;31m \u001b[0mgohan\u001b[0m\u001b[0;34m=\u001b[0m\u001b[0mHibrido\u001b[0m\u001b[0;34m(\u001b[0m\u001b[0;34m\"Gohan\"\u001b[0m\u001b[0;34m,\u001b[0m\u001b[0;34m\"negro\"\u001b[0m\u001b[0;34m,\u001b[0m\u001b[0;34m\"aguamarina\"\u001b[0m\u001b[0;34m,\u001b[0m\u001b[0;36m1000\u001b[0m\u001b[0;34m,\u001b[0m\u001b[0;36m50\u001b[0m\u001b[0;34m,\u001b[0m\u001b[0;32mTrue\u001b[0m\u001b[0;34m)\u001b[0m\u001b[0;34m\u001b[0m\u001b[0;34m\u001b[0m\u001b[0m\n\u001b[0m",
            "\u001b[0;31mTypeError\u001b[0m: Hibrido() takes no arguments"
          ]
        }
      ]
    },
    {
      "cell_type": "code",
      "source": [
        "gohan.trabajo(4)\n",
        "print(gohan.trabajo(4))"
      ],
      "metadata": {
        "colab": {
          "base_uri": "https://localhost:8080/",
          "height": 183
        },
        "id": "dAfL9aF1Vq62",
        "outputId": "4ae182d9-c16b-49cb-9f62-d3b964d42635"
      },
      "execution_count": 15,
      "outputs": [
        {
          "output_type": "error",
          "ename": "NameError",
          "evalue": "ignored",
          "traceback": [
            "\u001b[0;31m---------------------------------------------------------------------------\u001b[0m",
            "\u001b[0;31mNameError\u001b[0m                                 Traceback (most recent call last)",
            "\u001b[0;32m<ipython-input-15-f0168cb04a2c>\u001b[0m in \u001b[0;36m<module>\u001b[0;34m\u001b[0m\n\u001b[0;32m----> 1\u001b[0;31m \u001b[0mgohan\u001b[0m\u001b[0;34m.\u001b[0m\u001b[0mtrabajo\u001b[0m\u001b[0;34m(\u001b[0m\u001b[0;36m4\u001b[0m\u001b[0;34m)\u001b[0m\u001b[0;34m\u001b[0m\u001b[0;34m\u001b[0m\u001b[0m\n\u001b[0m\u001b[1;32m      2\u001b[0m \u001b[0mprint\u001b[0m\u001b[0;34m(\u001b[0m\u001b[0mgohan\u001b[0m\u001b[0;34m.\u001b[0m\u001b[0mtrabajo\u001b[0m\u001b[0;34m(\u001b[0m\u001b[0;36m4\u001b[0m\u001b[0;34m)\u001b[0m\u001b[0;34m)\u001b[0m\u001b[0;34m\u001b[0m\u001b[0;34m\u001b[0m\u001b[0m\n",
            "\u001b[0;31mNameError\u001b[0m: name 'gohan' is not defined"
          ]
        }
      ]
    }
  ]
}