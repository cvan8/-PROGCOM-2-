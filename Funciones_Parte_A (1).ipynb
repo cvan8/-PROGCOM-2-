{
  "nbformat": 4,
  "nbformat_minor": 0,
  "metadata": {
    "colab": {
      "provenance": []
    },
    "kernelspec": {
      "name": "python3",
      "display_name": "Python 3"
    },
    "language_info": {
      "name": "python"
    }
  },
  "cells": [
    {
      "cell_type": "markdown",
      "source": [
        "#Funciones"
      ],
      "metadata": {
        "id": "gWJQr2I0z9EF"
      }
    },
    {
      "cell_type": "markdown",
      "source": [
        "##A"
      ],
      "metadata": {
        "id": "3M_nLV8v0A3r"
      }
    },
    {
      "cell_type": "markdown",
      "source": [
        "def (nombre cualquiera)(parámetros o argumentos):\n",
        "  lo que va dentro de la función"
      ],
      "metadata": {
        "id": "11geSmad1AtF"
      }
    },
    {
      "cell_type": "markdown",
      "source": [
        "\n",
        "###Tipos de funciones:\n",
        "1. Sin parámetros, sin retorno\n",
        "\n",
        "def manuel():\n",
        "    print(\"Tome sus 5\")\n",
        "\n",
        "2. Sin parámetros, con retorno\n",
        "\n",
        "def nicolás():\n",
        "    print (\"Hola nicolás\")\n",
        "    a=5\n",
        "    return a\n",
        "\n",
        "3. Con parámetros, sin retorno\n",
        "\n",
        "def holitas(a,\"b\", x=False):\n",
        "    print(\"Hola nicolás\")\n",
        "    int a\n",
        "    b=string\n",
        "    x=boolean\n",
        "    print(\"Hola nicolás)\n",
        "    a=5\n",
        "\n",
        "4. Con parámetros, con retorno\n",
        "\n",
        "def holitas(a,\"b\", x=False):\n",
        "    print(\"Hola nicolás\")\n",
        "    int a\n",
        "    b=string\n",
        "    x=boolean\n",
        "    print(\"Hola nicolás)\n",
        "    a=5\n",
        "    return a"
      ],
      "metadata": {
        "id": "SHBK6azQ1Dss"
      }
    },
    {
      "cell_type": "code",
      "source": [
        "def salude():\n",
        "  print(\"Saludar\")\n",
        "  print(\"Es de cracks\")"
      ],
      "metadata": {
        "id": "p4vkQLNn37fo"
      },
      "execution_count": 3,
      "outputs": []
    },
    {
      "cell_type": "code",
      "source": [
        "salude()"
      ],
      "metadata": {
        "colab": {
          "base_uri": "https://localhost:8080/"
        },
        "id": "2-ICoYsA4lAo",
        "outputId": "51b67477-3e95-4886-fd27-878117f10a08"
      },
      "execution_count": 4,
      "outputs": [
        {
          "output_type": "stream",
          "name": "stdout",
          "text": [
            "Saludar\n",
            "Es de cracks\n"
          ]
        }
      ]
    },
    {
      "cell_type": "code",
      "source": [
        "a=int(input(\"Ingrese un número \"))\n",
        "b=int(input(\"Ingrese un número \"))\n",
        "c=int(input(\"Ingrese un número \"))\n",
        "\n",
        "if a!=b and a!=c and b!=c:\n",
        "  if a>b and a>c:\n",
        "    if b>c:\n",
        "      print(a, \" es el valor mayor\")\n",
        "      print(b, \" es el valor medio\")\n",
        "      print(c, \" es el valor menor\")\n",
        "    else:\n",
        "      print(a, \" es el valor mayor\")\n",
        "      print(c, \" es el valor medio\")\n",
        "      print(b, \" es el valor menor\")\n",
        "  elif b>a and b>c:\n",
        "    if a>c:\n",
        "      print(b, \" es el valor mayor\")\n",
        "      print(a, \" es el valor medio\")\n",
        "      print(c, \" es el valor menor\")\n",
        "    else:\n",
        "      print(b, \" es el valor mayor\")\n",
        "      print(c, \" es el valor medio\")\n",
        "      print(a, \" es el valor menor\")\n",
        "  if c>a and c>b:\n",
        "    if a>b:\n",
        "      print(c, \" es el valor mayor\")\n",
        "      print(a, \" es el valor medio\")\n",
        "      print(b, \" es el valor menor\")\n",
        "    else:\n",
        "      print(c, \" es el vaor mayor\")\n",
        "      print(b, \" es el valor medio\")\n",
        "      print(a, \" es el valor menor\")\n",
        "else:\n",
        "  print(\"No se puede hacer el cálculo\")"
      ],
      "metadata": {
        "colab": {
          "base_uri": "https://localhost:8080/"
        },
        "id": "Fxz642aU5A-I",
        "outputId": "4a053470-98a0-454b-a701-0874acf13925"
      },
      "execution_count": 8,
      "outputs": [
        {
          "output_type": "stream",
          "name": "stdout",
          "text": [
            "Ingrese un número 5\n",
            "Ingrese un número 4\n",
            "Ingrese un número 5\n",
            "No se puede hacer el cálculo\n"
          ]
        }
      ]
    },
    {
      "cell_type": "code",
      "source": [
        "#Función sin parámetros con retorno\n",
        "def imprimir(a,b,c):\n",
        "  print(a, \" es el valor mayor\")\n",
        "  print(b, \" es el valor medio\")\n",
        "  print(c, \" es el valor menor\")"
      ],
      "metadata": {
        "id": "pB8jcFSA7oxC"
      },
      "execution_count": 1,
      "outputs": []
    },
    {
      "cell_type": "code",
      "source": [
        "  a=int(input(\"Ingrese un número \"))\n",
        "  b=int(input(\"Ingrese un número \"))\n",
        "  c=int(input(\"Ingrese un número \"))\n",
        "\n",
        "  if a!=b and a!=c and b!=c:\n",
        "    if a>b and a>c:\n",
        "      if b>c:\n",
        "        imprimir(a,b,c)\n",
        "      else:\n",
        "        imprimir(a,c,b)\n",
        "    elif b>a and b>c:\n",
        "      if a>c:\n",
        "        imprimir(b,a,c)\n",
        "      else:\n",
        "        imprimir(b,c,a)\n",
        "    if c>a and c>b:\n",
        "      if a>b:\n",
        "        imprimir(c,a,b)\n",
        "      else:\n",
        "        imprimir(c,b,a)\n",
        "  else:\n",
        "    print(\"No se puede hacer el cálculo\")"
      ],
      "metadata": {
        "colab": {
          "base_uri": "https://localhost:8080/"
        },
        "id": "bI6TX2vH8sua",
        "outputId": "141bd1c9-9b7a-4274-81c6-bb3c77b08163"
      },
      "execution_count": 2,
      "outputs": [
        {
          "output_type": "stream",
          "name": "stdout",
          "text": [
            "Ingrese un número 5\n",
            "Ingrese un número 8\n",
            "Ingrese un número 7\n",
            "8  es el valor mayor\n",
            "7  es el valor medio\n",
            "5  es el valor menor\n"
          ]
        }
      ]
    },
    {
      "cell_type": "code",
      "source": [
        "def comparar(a,b,c):\n",
        "  if a!=b and a!=c and b!=c:\n",
        "    if a>b and a>c:\n",
        "      if b>c:\n",
        "        imprimir(a,b,c)\n",
        "      else:\n",
        "        imprimir(a,c,b)\n",
        "    elif b>a and b>c:\n",
        "      if a>c:\n",
        "        imprimir(b,a,c)\n",
        "      else:\n",
        "        imprimir(b,c,a)\n",
        "    if c>a and c>b:\n",
        "      if a>b:\n",
        "        imprimir(c,a,b)\n",
        "      else:\n",
        "        imprimir(c,b,a)\n",
        "  else:\n",
        "    print(\"No se puede hacer el cálculo\")"
      ],
      "metadata": {
        "id": "u_xGiAr2BGUj"
      },
      "execution_count": 2,
      "outputs": []
    },
    {
      "cell_type": "code",
      "source": [
        "  a=int(input(\"Ingrese un número \"))\n",
        "  b=int(input(\"Ingrese un número \"))\n",
        "  c=int(input(\"Ingrese un número \"))\n",
        "  comparar(c,b,a)"
      ],
      "metadata": {
        "colab": {
          "base_uri": "https://localhost:8080/"
        },
        "id": "-fhAuRyLBtLk",
        "outputId": "11cddd3d-bb07-4aa3-cb7e-c2d91bfb4437"
      },
      "execution_count": 3,
      "outputs": [
        {
          "output_type": "stream",
          "name": "stdout",
          "text": [
            "Ingrese un número 5\n",
            "Ingrese un número 8\n",
            "Ingrese un número 7\n",
            "8  es el valor mayor\n",
            "7  es el valor medio\n",
            "5  es el valor menor\n"
          ]
        }
      ]
    },
    {
      "cell_type": "markdown",
      "source": [
        "#B"
      ],
      "metadata": {
        "id": "-QWy7EuoHefJ"
      }
    },
    {
      "cell_type": "code",
      "source": [
        "#Función sin parámetros con retorno\n",
        "def imprimir(a):\n",
        "  print(a, \" es vocal\")"
      ],
      "metadata": {
        "id": "qdN57MaIHl_Z"
      },
      "execution_count": 12,
      "outputs": []
    },
    {
      "cell_type": "code",
      "source": [
        "a=str(input(\"Ingrese una letra \")).lower\n",
        "\n",
        "if a==\"a\":\n",
        "  imprimir(a)\n",
        "if a==\"e\":\n",
        "  imprimir(a)\n",
        "if a==\"i\":\n",
        "  imprimir(a)\n",
        "if a==\"o\":\n",
        "  imprimir(a)\n",
        "if a==\"u\":\n",
        "  imprimir(a)\n",
        "else:\n",
        "  print(\"No es vocal\")"
      ],
      "metadata": {
        "colab": {
          "base_uri": "https://localhost:8080/"
        },
        "id": "VkTMOkXqHi_A",
        "outputId": "8832284c-97bc-42d4-ca3f-59a56ffb814a"
      },
      "execution_count": 17,
      "outputs": [
        {
          "output_type": "stream",
          "name": "stdout",
          "text": [
            "Ingrese una letra j\n",
            "No es vocal\n"
          ]
        }
      ]
    }
  ]
}