{
  "nbformat": 4,
  "nbformat_minor": 0,
  "metadata": {
    "colab": {
      "provenance": []
    },
    "kernelspec": {
      "name": "python3",
      "display_name": "Python 3"
    },
    "language_info": {
      "name": "python"
    }
  },
  "cells": [
    {
      "cell_type": "code",
      "execution_count": 4,
      "metadata": {
        "id": "YMaf_UZLUZq0"
      },
      "outputs": [],
      "source": [
        "class humanos():\n",
        "  def __init__(self,nombre,edad,cuerpo,piernas,brazos,ojos,cabello,nariz,color_piel):\n",
        "    self.nombre=nombre\n",
        "    self.edad=edad\n",
        "    self.cuerpo=cuerpo\n",
        "    self.piernas=piernas\n",
        "    self.brazos=brazos\n",
        "    self.ojos=ojos\n",
        "    self.cabello=cabello\n",
        "    self.nariz=nariz\n",
        "    self.color_piel=color_piel\n",
        "\n",
        "def caminar(self,velocidad):\n",
        "  if velocidad==0:\n",
        "    return f\"{self.nombre} está sentado o muerto\"\n",
        "  elif velocidad>0.5 and velocidad<1:\n",
        "    return f\"{self.nombre} está gateando\"\n",
        "  elif velocidad>2 and velocidad<5:\n",
        "    return f\"{self.nombre} está caminando\"\n",
        "  elif velocidad>=5 and velocidad<7:\n",
        "    return f\"{self.nombre} está trotando\"\n",
        "  elif velocidad>=7 and velocidad<10:\n",
        "    return f\"{self.nombre} está corriendo\"\n",
        "  elif velocidad>=1 and velocidad<2:\n",
        "    return f\"{self.nombre} está cojeando\"\n",
        "  else:\n",
        "    return f\"{self.nombre} está volando\"\n",
        "\n",
        "  def comer(self,saciedad):\n",
        "    if saciedad==0:\n",
        "      return f\"{self.nombre} tengo hambre\"\n",
        "    elif saciedad>0 and saciedad<1:\n",
        "      return f\"{self.nombre} sigo con hambre pero no tanta\"\n",
        "    elif saciedad>1 and saciedad<2:\n",
        "      return f\"{self.nombre} sigo con hambre pero poquita\"\n",
        "    elif saciedad>2 and saciedad<3:\n",
        "      return f\"{self.nombre} estoy algo saciado\"\n",
        "    elif saciedad>3 and saciedad<4:\n",
        "      return f\"{self.nombre} estoy lleno\""
      ]
    },
    {
      "cell_type": "code",
      "source": [
        "estudiante=humanos(\"pepito perez\",16,\"delgado\",2,2,\"azules\",\"rubio y corto\",1,\"geige\")\n",
        "estudiante.__dict__"
      ],
      "metadata": {
        "colab": {
          "base_uri": "https://localhost:8080/"
        },
        "id": "9EdFdRvcXQmk",
        "outputId": "c6ee39fd-2547-4b2c-e2d3-2ac4c359f5ae"
      },
      "execution_count": 5,
      "outputs": [
        {
          "output_type": "execute_result",
          "data": {
            "text/plain": [
              "{'nombre': 'pepito perez',\n",
              " 'edad': 16,\n",
              " 'cuerpo': 'delgado',\n",
              " 'piernas': 2,\n",
              " 'brazos': 2,\n",
              " 'ojos': 'azules',\n",
              " 'cabello': 'rubio y corto',\n",
              " 'nariz': 1,\n",
              " 'color_piel': 'geige'}"
            ]
          },
          "metadata": {},
          "execution_count": 5
        }
      ]
    },
    {
      "cell_type": "code",
      "source": [
        "estudiante.velocidad(7)"
      ],
      "metadata": {
        "colab": {
          "base_uri": "https://localhost:8080/",
          "height": 165
        },
        "id": "Ny_HzNmBZEJg",
        "outputId": "467c8f17-1191-4f0f-8c5a-a1b37309fdda"
      },
      "execution_count": 6,
      "outputs": [
        {
          "output_type": "error",
          "ename": "AttributeError",
          "evalue": "ignored",
          "traceback": [
            "\u001b[0;31m---------------------------------------------------------------------------\u001b[0m",
            "\u001b[0;31mAttributeError\u001b[0m                            Traceback (most recent call last)",
            "\u001b[0;32m<ipython-input-6-67500b917366>\u001b[0m in \u001b[0;36m<module>\u001b[0;34m\u001b[0m\n\u001b[0;32m----> 1\u001b[0;31m \u001b[0mestudiante\u001b[0m\u001b[0;34m.\u001b[0m\u001b[0mvelocidad\u001b[0m\u001b[0;34m(\u001b[0m\u001b[0;36m7\u001b[0m\u001b[0;34m)\u001b[0m\u001b[0;34m\u001b[0m\u001b[0;34m\u001b[0m\u001b[0m\n\u001b[0m",
            "\u001b[0;31mAttributeError\u001b[0m: 'humanos' object has no attribute 'velocidad'"
          ]
        }
      ]
    }
  ]
}