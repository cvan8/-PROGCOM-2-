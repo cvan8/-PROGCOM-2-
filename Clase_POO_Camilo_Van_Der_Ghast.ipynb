{
  "nbformat": 4,
  "nbformat_minor": 0,
  "metadata": {
    "colab": {
      "provenance": []
    },
    "kernelspec": {
      "name": "python3",
      "display_name": "Python 3"
    },
    "language_info": {
      "name": "python"
    }
  },
  "cells": [
    {
      "cell_type": "markdown",
      "source": [
        "#POO o programación orientada a objetos.\n",
        "Clase es como un molde\n",
        "- Variables --> Atributos.\n",
        "- Funciones --> Métodos.\n",
        "- Constructor --> Constituye una clase.\n",
        "- Objetos: Comparten atributos, métodos, relaciones que tienen una identidad propia."
      ],
      "metadata": {
        "id": "YldMADk-DhPq"
      }
    },
    {
      "cell_type": "code",
      "execution_count": 10,
      "metadata": {
        "id": "TwCTP_w5CA_q"
      },
      "outputs": [],
      "source": [
        "class Mascotas:\n",
        "  pass"
      ]
    },
    {
      "cell_type": "code",
      "source": [
        "a=Mascotas\n",
        "b=Mascotas"
      ],
      "metadata": {
        "id": "QHaPtcyVE70f"
      },
      "execution_count": 11,
      "outputs": []
    },
    {
      "cell_type": "code",
      "source": [
        "if a==b:\n",
        "  print(\"Son igualitos\")\n",
        "else:\n",
        "  print(\"Son igualitos\")"
      ],
      "metadata": {
        "colab": {
          "base_uri": "https://localhost:8080/"
        },
        "id": "AXlU6pB0GaWe",
        "outputId": "e4b217ac-8170-441f-a5a3-6fbde4bf4210"
      },
      "execution_count": 12,
      "outputs": [
        {
          "output_type": "stream",
          "name": "stdout",
          "text": [
            "Son igualitos\n"
          ]
        }
      ]
    },
    {
      "cell_type": "code",
      "source": [
        "class Empleado():\n",
        "  #Construyendo un constructor\n",
        "  def __init__(self, nombre, edad, ID, salario):\n",
        "    self.nombre=nombre\n",
        "    self.edad=edad\n",
        "    self.ID=ID\n",
        "    self.salario=salario\n",
        "\n",
        "def __repr__(self):\n",
        "  return f\"nombre: {self.nombre}, edad: {self.edad}, ID: {self.ID}. salario {self.salario}\""
      ],
      "metadata": {
        "id": "vRhselRUG-ml"
      },
      "execution_count": 28,
      "outputs": []
    },
    {
      "cell_type": "code",
      "source": [
        "Sonia=Empleado(\"Sonia\",25,\"U00152314\",10000000)"
      ],
      "metadata": {
        "id": "Ya7tS7d7Hloj"
      },
      "execution_count": 29,
      "outputs": []
    },
    {
      "cell_type": "code",
      "source": [
        "print(Sonia)"
      ],
      "metadata": {
        "colab": {
          "base_uri": "https://localhost:8080/"
        },
        "id": "Ogto3fSqNT2I",
        "outputId": "ec1e4a5c-036b-4009-ac3c-9ceb82907b21"
      },
      "execution_count": 32,
      "outputs": [
        {
          "output_type": "stream",
          "name": "stdout",
          "text": [
            "<__main__.Empleado object at 0x7ff246f6d090>\n"
          ]
        }
      ]
    },
    {
      "cell_type": "code",
      "source": [
        "Sonia.__dict__"
      ],
      "metadata": {
        "colab": {
          "base_uri": "https://localhost:8080/"
        },
        "id": "SoiGqxt6H3_q",
        "outputId": "3ae13201-0ad6-4642-942e-6c1122797a3e"
      },
      "execution_count": 31,
      "outputs": [
        {
          "output_type": "execute_result",
          "data": {
            "text/plain": [
              "{'nombre': 'Sonia', 'edad': 25, 'ID': 'U00152314', 'salario': 10000000}"
            ]
          },
          "metadata": {},
          "execution_count": 31
        }
      ]
    },
    {
      "cell_type": "code",
      "source": [
        "madaniel=Empleado(\"Pirulais\",83,\"U001512345\", 1000000)"
      ],
      "metadata": {
        "id": "UvNGvCrqNtd2"
      },
      "execution_count": 34,
      "outputs": []
    },
    {
      "cell_type": "code",
      "source": [
        "if Sonia.salario==madaniel.salario:\n",
        "  print(f\"El salario de {madaniel.nombre} y {Sonia.nombre} son iguales\")\n",
        "elif Sonia.salario>madaniel.salario:\n",
        "  print(f\"El salario de {madaniel.nombre} es menor al de {Sonia.nombre}\")\n",
        "else:\n",
        "  print(f\"El salario de {madaniel.nombre} es mayor al de {Sonia.salario}\")"
      ],
      "metadata": {
        "colab": {
          "base_uri": "https://localhost:8080/"
        },
        "id": "RKv4-JiwODwe",
        "outputId": "2afd86a3-4fae-4aa2-dbc3-79e0faaf4027"
      },
      "execution_count": 36,
      "outputs": [
        {
          "output_type": "stream",
          "name": "stdout",
          "text": [
            "El salario de Pirulais es menor al de Sonia\n"
          ]
        }
      ]
    },
    {
      "cell_type": "markdown",
      "source": [
        "#Ejercicio Calculadora"
      ],
      "metadata": {
        "id": "v0HXBs5NP4_c"
      }
    },
    {
      "cell_type": "code",
      "source": [
        "class Fraccion:\n",
        "  #Atributos de clase\n",
        "  num=0\n",
        "  den=1\n",
        "\n",
        "  #Creando el constructor\n",
        "  def __init__(self,num=0,den=1):\n",
        "    self.num=num\n",
        "    self.den=den\n",
        "  def multiplica(self,b):\n",
        "    num=self.num*b.num\n",
        "    den=self.den*b.den\n",
        "    r=Fraccion(num,den)\n",
        "    return r\n",
        "  def imprime(self):\n",
        "    print(self.num, \"/\", self.den)\n"
      ],
      "metadata": {
        "id": "1FoVkVrZP-KM"
      },
      "execution_count": 47,
      "outputs": []
    },
    {
      "cell_type": "code",
      "source": [
        "#Creando ojetos tipo fracción\n",
        "a1=Fraccion(4,5)\n",
        "a2=Fraccion(8,9)"
      ],
      "metadata": {
        "id": "a1bNncRrRUfy"
      },
      "execution_count": 48,
      "outputs": []
    },
    {
      "cell_type": "code",
      "source": [
        "a1.imprime()\n",
        "a2.imprime()"
      ],
      "metadata": {
        "colab": {
          "base_uri": "https://localhost:8080/"
        },
        "id": "irrhpujERzBS",
        "outputId": "1b4b1501-05d4-4491-e212-fb6bff392158"
      },
      "execution_count": 49,
      "outputs": [
        {
          "output_type": "stream",
          "name": "stdout",
          "text": [
            "4 / 5\n",
            "8 / 9\n"
          ]
        }
      ]
    },
    {
      "cell_type": "code",
      "source": [
        "c=a1.multiplica(a2)\n",
        "c.imprime()"
      ],
      "metadata": {
        "colab": {
          "base_uri": "https://localhost:8080/"
        },
        "id": "_1lTHhU7S7SR",
        "outputId": "abde6613-9346-4f2d-c664-32b288fe2308"
      },
      "execution_count": 50,
      "outputs": [
        {
          "output_type": "stream",
          "name": "stdout",
          "text": [
            "32 / 45\n"
          ]
        }
      ]
    },
    {
      "cell_type": "code",
      "source": [
        "type(c)"
      ],
      "metadata": {
        "colab": {
          "base_uri": "https://localhost:8080/"
        },
        "id": "46rJuSDZUwm8",
        "outputId": "8a34624f-088a-40cf-d0cf-bb76eedb269f"
      },
      "execution_count": 51,
      "outputs": [
        {
          "output_type": "execute_result",
          "data": {
            "text/plain": [
              "__main__.Fraccion"
            ]
          },
          "metadata": {},
          "execution_count": 51
        }
      ]
    }
  ]
}