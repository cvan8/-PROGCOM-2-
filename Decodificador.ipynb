{
  "nbformat": 4,
  "nbformat_minor": 0,
  "metadata": {
    "colab": {
      "provenance": []
    },
    "kernelspec": {
      "name": "python3",
      "display_name": "Python 3"
    },
    "language_info": {
      "name": "python"
    }
  },
  "cells": [
    {
      "cell_type": "code",
      "execution_count": null,
      "metadata": {
        "colab": {
          "base_uri": "https://localhost:8080/"
        },
        "id": "m5eLTabGDFJS",
        "outputId": "3a014ec6-f2cd-4c54-91b7-76de99d7b0b4"
      },
      "outputs": [
        {
          "output_type": "stream",
          "name": "stdout",
          "text": [
            "Frase coroi\n",
            "['d', 'e', 's', 'e', 'a']\n",
            "desea\n",
            "desea\n"
          ]
        }
      ],
      "source": [
        "a=input(\"Frase \")\n",
        "vocal=[\"a\",\"e\",\"i\",\"o\",\"u\"]\n",
        "vocalt=[\"á\",\"é\",\"í\",\"ó\",\"ú\"]\n",
        "consonante=[\"b\",\"c\",\"d\",\"f\",\"g\",\"h\",\"j\",\"k\",\"l\",\"m\",\"n\",\"ñ\",\"p\",\"q\",\"r\",\"s\",\"t\",\"v\",\"w\",\"x\",\"y\",\"z\"]\n",
        "a=a.lower()\n",
        "r=[]\n",
        "for i in range(len(a)):\n",
        "  if a[i] in vocal:\n",
        "    x=0\n",
        "    x=vocal.index(a[i])\n",
        "    x-=2\n",
        "    if x==5:\n",
        "      r.append(\"a\")\n",
        "    elif x==6:\n",
        "      r.append(\"e\")\n",
        "    else:\n",
        "      r.append(vocal[x])\n",
        " \n",
        "  elif a[i] in vocalt:\n",
        "    x=0\n",
        "    x=vocalt.index(a[i])\n",
        "    x-=2\n",
        "    if x==5:\n",
        "      r.append(\"á\")\n",
        "    elif x==6:\n",
        "      r.append(\"é\")\n",
        "    else:\n",
        "      r.append(vocalt[x])\n",
        "\n",
        "  elif a[i] in consonante:\n",
        "    x=0\n",
        "    x=consonante.index(a[i])\n",
        "    x+=1\n",
        "    r.append(consonante[x])\n",
        "\n",
        "  else:\n",
        "    r.append(a[i])\n",
        "\n",
        "frase=\"\".join(r)\n",
        "frase2=frase.split()\n",
        "frase2=frase2[::-1]\n",
        "frase2=\"\".join(frase2)\n",
        "print(r)\n",
        "print(frase)\n",
        "print(frase2)"
      ]
    }
  ]
}