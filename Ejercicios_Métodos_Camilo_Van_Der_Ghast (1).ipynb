{
  "nbformat": 4,
  "nbformat_minor": 0,
  "metadata": {
    "colab": {
      "provenance": []
    },
    "kernelspec": {
      "name": "python3",
      "display_name": "Python 3"
    },
    "language_info": {
      "name": "python"
    }
  },
  "cells": [
    {
      "cell_type": "markdown",
      "source": [
        "#Ejercicios de métodos"
      ],
      "metadata": {
        "id": "CB_n1ukSm_KA"
      }
    },
    {
      "cell_type": "markdown",
      "source": [
        "#1. Determine el mayor de dos números"
      ],
      "metadata": {
        "id": "4uYt2b_6pb-R"
      }
    },
    {
      "cell_type": "code",
      "source": [
        "def npc(a,b):\n",
        "  if a>b:\n",
        "    print(f\" {a} es el mayor\")\n",
        "  else:\n",
        "    print(b,\" es el mayor\")"
      ],
      "metadata": {
        "id": "P-2aTSXVnC5I"
      },
      "execution_count": 20,
      "outputs": []
    },
    {
      "cell_type": "code",
      "source": [
        "print(npc(4,5))"
      ],
      "metadata": {
        "colab": {
          "base_uri": "https://localhost:8080/"
        },
        "id": "ZeNFj6wFnW8o",
        "outputId": "051d7715-574e-45c6-ffd9-8138b885ce2c"
      },
      "execution_count": 21,
      "outputs": [
        {
          "output_type": "stream",
          "name": "stdout",
          "text": [
            "5  es el mayor\n",
            "None\n"
          ]
        }
      ]
    },
    {
      "cell_type": "markdown",
      "source": [
        "#2. Determine el mayor de tres números (empleando la función anterior)."
      ],
      "metadata": {
        "id": "vxOE2doEqA24"
      }
    },
    {
      "cell_type": "code",
      "source": [
        "def npc(a,b):\n",
        "  if a>b:\n",
        "    print(f\" {a} es el mayor\")\n",
        "  else:\n",
        "    print(b,\" es el mayor\")"
      ],
      "metadata": {
        "id": "xph_1SLcqSzw"
      },
      "execution_count": 3,
      "outputs": []
    },
    {
      "cell_type": "code",
      "source": [
        "def mayor(x,y,z):\n",
        "  npc(x,npc(y,z))"
      ],
      "metadata": {
        "id": "nroumvORndon"
      },
      "execution_count": 4,
      "outputs": []
    },
    {
      "cell_type": "code",
      "source": [
        "print(mayor(4,5,6))"
      ],
      "metadata": {
        "colab": {
          "base_uri": "https://localhost:8080/",
          "height": 328
        },
        "id": "tpAdrt4ooEYl",
        "outputId": "118e53a8-8c11-43f8-b63b-43c683c5fd75"
      },
      "execution_count": 5,
      "outputs": [
        {
          "output_type": "stream",
          "name": "stdout",
          "text": [
            "6  es el mayor\n"
          ]
        },
        {
          "output_type": "error",
          "ename": "TypeError",
          "evalue": "ignored",
          "traceback": [
            "\u001b[0;31m---------------------------------------------------------------------------\u001b[0m",
            "\u001b[0;31mTypeError\u001b[0m                                 Traceback (most recent call last)",
            "\u001b[0;32m<ipython-input-5-52547e86f0e6>\u001b[0m in \u001b[0;36m<module>\u001b[0;34m\u001b[0m\n\u001b[0;32m----> 1\u001b[0;31m \u001b[0mprint\u001b[0m\u001b[0;34m(\u001b[0m\u001b[0mmayor\u001b[0m\u001b[0;34m(\u001b[0m\u001b[0;36m4\u001b[0m\u001b[0;34m,\u001b[0m\u001b[0;36m5\u001b[0m\u001b[0;34m,\u001b[0m\u001b[0;36m6\u001b[0m\u001b[0;34m)\u001b[0m\u001b[0;34m)\u001b[0m\u001b[0;34m\u001b[0m\u001b[0;34m\u001b[0m\u001b[0m\n\u001b[0m",
            "\u001b[0;32m<ipython-input-4-5d5c755fc6a0>\u001b[0m in \u001b[0;36mmayor\u001b[0;34m(x, y, z)\u001b[0m\n\u001b[1;32m      1\u001b[0m \u001b[0;32mdef\u001b[0m \u001b[0mmayor\u001b[0m\u001b[0;34m(\u001b[0m\u001b[0mx\u001b[0m\u001b[0;34m,\u001b[0m\u001b[0my\u001b[0m\u001b[0;34m,\u001b[0m\u001b[0mz\u001b[0m\u001b[0;34m)\u001b[0m\u001b[0;34m:\u001b[0m\u001b[0;34m\u001b[0m\u001b[0;34m\u001b[0m\u001b[0m\n\u001b[0;32m----> 2\u001b[0;31m   \u001b[0mnpc\u001b[0m\u001b[0;34m(\u001b[0m\u001b[0mx\u001b[0m\u001b[0;34m,\u001b[0m\u001b[0mnpc\u001b[0m\u001b[0;34m(\u001b[0m\u001b[0my\u001b[0m\u001b[0;34m,\u001b[0m\u001b[0mz\u001b[0m\u001b[0;34m)\u001b[0m\u001b[0;34m)\u001b[0m\u001b[0;34m\u001b[0m\u001b[0;34m\u001b[0m\u001b[0m\n\u001b[0m",
            "\u001b[0;32m<ipython-input-3-986b4f3eb9e5>\u001b[0m in \u001b[0;36mnpc\u001b[0;34m(a, b)\u001b[0m\n\u001b[1;32m      1\u001b[0m \u001b[0;32mdef\u001b[0m \u001b[0mnpc\u001b[0m\u001b[0;34m(\u001b[0m\u001b[0ma\u001b[0m\u001b[0;34m,\u001b[0m\u001b[0mb\u001b[0m\u001b[0;34m)\u001b[0m\u001b[0;34m:\u001b[0m\u001b[0;34m\u001b[0m\u001b[0;34m\u001b[0m\u001b[0m\n\u001b[0;32m----> 2\u001b[0;31m   \u001b[0;32mif\u001b[0m \u001b[0ma\u001b[0m\u001b[0;34m>\u001b[0m\u001b[0mb\u001b[0m\u001b[0;34m:\u001b[0m\u001b[0;34m\u001b[0m\u001b[0;34m\u001b[0m\u001b[0m\n\u001b[0m\u001b[1;32m      3\u001b[0m     \u001b[0mprint\u001b[0m\u001b[0;34m(\u001b[0m\u001b[0;34mf\" {a} es el mayor\"\u001b[0m\u001b[0;34m)\u001b[0m\u001b[0;34m\u001b[0m\u001b[0;34m\u001b[0m\u001b[0m\n\u001b[1;32m      4\u001b[0m   \u001b[0;32melse\u001b[0m\u001b[0;34m:\u001b[0m\u001b[0;34m\u001b[0m\u001b[0;34m\u001b[0m\u001b[0m\n\u001b[1;32m      5\u001b[0m     \u001b[0mprint\u001b[0m\u001b[0;34m(\u001b[0m\u001b[0mb\u001b[0m\u001b[0;34m,\u001b[0m\u001b[0;34m\" es el mayor\"\u001b[0m\u001b[0;34m)\u001b[0m\u001b[0;34m\u001b[0m\u001b[0;34m\u001b[0m\u001b[0m\n",
            "\u001b[0;31mTypeError\u001b[0m: '>' not supported between instances of 'int' and 'NoneType'"
          ]
        }
      ]
    },
    {
      "cell_type": "markdown",
      "source": [
        "#3. Sumar los números de una lista de 3 elementos. Ejemplo [3,4,5]. Salida: 12"
      ],
      "metadata": {
        "id": "sTwvGvpeqnqQ"
      }
    },
    {
      "cell_type": "code",
      "source": [
        "ejemplo=[3,4,5]\n",
        "def suma(ejemplo):\n",
        "  r=ejemplo[0] + ejemplo[1] + ejemplo[2]\n",
        "  print(r)"
      ],
      "metadata": {
        "id": "oMDXne7cqql_"
      },
      "execution_count": 25,
      "outputs": []
    },
    {
      "cell_type": "code",
      "source": [
        "suma(ejemplo)"
      ],
      "metadata": {
        "colab": {
          "base_uri": "https://localhost:8080/"
        },
        "id": "qnHKk9yauLri",
        "outputId": "9afb6c5c-1b70-49cd-d2ac-321aae53bae0"
      },
      "execution_count": 26,
      "outputs": [
        {
          "output_type": "stream",
          "name": "stdout",
          "text": [
            "12\n"
          ]
        }
      ]
    },
    {
      "cell_type": "markdown",
      "source": [
        "#4. Sumar los números de una lista de 4 elementos. Ejemplo [3,4,5,6]. Salida: 18"
      ],
      "metadata": {
        "id": "ehLfWIgBuQap"
      }
    },
    {
      "cell_type": "code",
      "source": [
        "ejemplo=[3,4,5,6]\n",
        "def suma(ejemplo):\n",
        "  r=ejemplo[0] + ejemplo[1] + ejemplo[2] + ejemplo[3]\n",
        "  print(r)"
      ],
      "metadata": {
        "id": "f-QwoOz8uWML"
      },
      "execution_count": 27,
      "outputs": []
    },
    {
      "cell_type": "code",
      "source": [
        "suma(ejemplo)"
      ],
      "metadata": {
        "colab": {
          "base_uri": "https://localhost:8080/"
        },
        "id": "qcpg_tkIudTr",
        "outputId": "413e4d33-533f-4030-d8d5-ea1adef324e9"
      },
      "execution_count": 28,
      "outputs": [
        {
          "output_type": "stream",
          "name": "stdout",
          "text": [
            "18\n"
          ]
        }
      ]
    },
    {
      "cell_type": "markdown",
      "source": [
        "#5. Sumar todos los números de una lista. Ejemplo: (8,5,3,1). Salida: 17"
      ],
      "metadata": {
        "id": "2FRkrzXiujrL"
      }
    },
    {
      "cell_type": "code",
      "source": [
        "\n",
        "a=int(input(\"Ingrese un número para sumar \"))\n",
        "b=int(input(\"Ingrese un número para sumar \"))\n",
        "c=int(input(\"Ingrese un número para sumar \"))\n",
        "d=int(input(\"Ingrese un número para sumar \"))\n",
        "ejemplo=[a,b,c,d]\n",
        "print(ejemplo)\n",
        "def suma(ejemplo):\n",
        "  r=ejemplo[0] + ejemplo[1] + ejemplo[2] + ejemplo[3]\n",
        "  print(r)"
      ],
      "metadata": {
        "colab": {
          "base_uri": "https://localhost:8080/"
        },
        "id": "qk0XfccluqHr",
        "outputId": "aeb1030b-6324-4ed0-82bf-a6d57a94f4bb"
      },
      "execution_count": 47,
      "outputs": [
        {
          "output_type": "stream",
          "name": "stdout",
          "text": [
            "Ingrese un número para sumar 5\n",
            "Ingrese un número para sumar 5\n",
            "Ingrese un número para sumar 6\n",
            "Ingrese un número para sumar 3\n",
            "[5, 5, 6, 3]\n"
          ]
        }
      ]
    },
    {
      "cell_type": "code",
      "source": [
        "suma(ejemplo)"
      ],
      "metadata": {
        "colab": {
          "base_uri": "https://localhost:8080/"
        },
        "id": "-QVc8-xiuvlb",
        "outputId": "d2209b8b-9765-4da8-a335-ba66809a8061"
      },
      "execution_count": 49,
      "outputs": [
        {
          "output_type": "stream",
          "name": "stdout",
          "text": [
            "19\n"
          ]
        }
      ]
    },
    {
      "cell_type": "code",
      "source": [
        "sumax=[2,2,3,4,5,5,6,6,8,8,8,86]\n",
        "def sumatotal(sumax):\n",
        "  total=0\n",
        "  for i in sumax:\n",
        "    total= total + i\n",
        "  print(total)"
      ],
      "metadata": {
        "id": "0H2UMW3UyeRq"
      },
      "execution_count": 57,
      "outputs": []
    },
    {
      "cell_type": "code",
      "source": [
        "sumatotal(sumax)"
      ],
      "metadata": {
        "colab": {
          "base_uri": "https://localhost:8080/"
        },
        "id": "ZnitWUNdzJ8w",
        "outputId": "50737fa9-4c09-4c25-b2a8-994217e12af8"
      },
      "execution_count": 58,
      "outputs": [
        {
          "output_type": "stream",
          "name": "stdout",
          "text": [
            "143\n"
          ]
        }
      ]
    },
    {
      "cell_type": "markdown",
      "source": [
        "#6. Multiplicar los números de una lista de 3 elementos. Ejemplo [0,4,5]. Salida: 0"
      ],
      "metadata": {
        "id": "NnoqxJwtzbau"
      }
    },
    {
      "cell_type": "code",
      "source": [
        "ejemplo=[0,4,5]\n",
        "def suma(ejemplo):\n",
        "  r=ejemplo[0] * ejemplo[1] * ejemplo[2]\n",
        "  print(r)"
      ],
      "metadata": {
        "id": "fI9mNFWdzm_N"
      },
      "execution_count": 59,
      "outputs": []
    },
    {
      "cell_type": "code",
      "source": [
        "suma(ejemplo)"
      ],
      "metadata": {
        "colab": {
          "base_uri": "https://localhost:8080/"
        },
        "id": "WQWCrrQ7zvjt",
        "outputId": "6f11fdf6-c284-4990-a339-c051112dc492"
      },
      "execution_count": 60,
      "outputs": [
        {
          "output_type": "stream",
          "name": "stdout",
          "text": [
            "0\n"
          ]
        }
      ]
    },
    {
      "cell_type": "markdown",
      "source": [
        "#7. Multiplicar los números de una lista de 4 elementos. Ejemplo [3,4,5,1]. Salida: 60"
      ],
      "metadata": {
        "id": "Q-F0egb8z0xl"
      }
    },
    {
      "cell_type": "code",
      "source": [
        "ejemplo=[3,4,5,1]\n",
        "def suma(ejemplo):\n",
        "  r=ejemplo[0] * ejemplo[1] * ejemplo[2] * ejemplo[3]\n",
        "  print(r)"
      ],
      "metadata": {
        "id": "CNn_KRWMz9MM"
      },
      "execution_count": 61,
      "outputs": []
    },
    {
      "cell_type": "code",
      "source": [
        "suma(ejemplo)"
      ],
      "metadata": {
        "colab": {
          "base_uri": "https://localhost:8080/"
        },
        "id": "ipNp4utp0ATO",
        "outputId": "84bf370b-f66e-4e5a-b031-fd64a58fb50e"
      },
      "execution_count": 62,
      "outputs": [
        {
          "output_type": "stream",
          "name": "stdout",
          "text": [
            "60\n"
          ]
        }
      ]
    },
    {
      "cell_type": "markdown",
      "source": [
        "#8. Multiplicar todos los números de una lista. Ejemplo: (1,2,3,-1). Salida: -6"
      ],
      "metadata": {
        "id": "1JyHp3jL0Hl0"
      }
    },
    {
      "cell_type": "code",
      "source": [
        "mul=[2,2,6,5,4,3,3,5,6,7]\n",
        "def multotal(mul):\n",
        "  total=1\n",
        "  for i in mul:\n",
        "    total= total * i\n",
        "  print(total)"
      ],
      "metadata": {
        "id": "PmuWOnmB0NFW"
      },
      "execution_count": 75,
      "outputs": []
    },
    {
      "cell_type": "code",
      "source": [
        "multotal(mul)"
      ],
      "metadata": {
        "colab": {
          "base_uri": "https://localhost:8080/"
        },
        "id": "wzdi0ljr0aAt",
        "outputId": "f3c6571f-c288-43ae-ed35-ee5dcf0c19c8"
      },
      "execution_count": 76,
      "outputs": [
        {
          "output_type": "stream",
          "name": "stdout",
          "text": [
            "907200\n"
          ]
        }
      ]
    },
    {
      "cell_type": "markdown",
      "source": [
        "#9. Invierta un String. Ejemplo: ingresa Hola y retorna aloH"
      ],
      "metadata": {
        "id": "P72G98ve0zte"
      }
    },
    {
      "cell_type": "code",
      "source": [
        "x=str(input(\"ingresa una palabra: \"))\n",
        "def invertido(palabra):\n",
        "  ejemplo=len(x)\n",
        "  ejemplo=x[ejemplo::-1]\n",
        "  print(ejemplo)"
      ],
      "metadata": {
        "colab": {
          "base_uri": "https://localhost:8080/"
        },
        "id": "Fzec9Q7m03u1",
        "outputId": "c9ee08d5-0c23-4c6f-ad26-9461a814b8a2"
      },
      "execution_count": 97,
      "outputs": [
        {
          "name": "stdout",
          "output_type": "stream",
          "text": [
            "ingresa una palabra: Hola\n"
          ]
        }
      ]
    },
    {
      "cell_type": "code",
      "source": [
        "invertido(x)"
      ],
      "metadata": {
        "colab": {
          "base_uri": "https://localhost:8080/"
        },
        "id": "_pjo5diZ5lwl",
        "outputId": "dbe04c02-d67e-4eae-e9b5-617ba1f4b6a6"
      },
      "execution_count": 98,
      "outputs": [
        {
          "output_type": "stream",
          "name": "stdout",
          "text": [
            "aloH\n"
          ]
        }
      ]
    },
    {
      "cell_type": "markdown",
      "source": [
        "#10. Calcular el factorial de un número"
      ],
      "metadata": {
        "id": "MvzSuHJq3HYE"
      }
    },
    {
      "cell_type": "code",
      "source": [
        "def factorial(x):\n",
        "  mul=1\n",
        "  for i in range(1,x+1):\n",
        "    mul= mul*i\n",
        "  print(mul)"
      ],
      "metadata": {
        "id": "FWmcedjv3LJ2"
      },
      "execution_count": 103,
      "outputs": []
    },
    {
      "cell_type": "code",
      "source": [
        "factorial(3)"
      ],
      "metadata": {
        "colab": {
          "base_uri": "https://localhost:8080/"
        },
        "id": "YMqSWNaz5_Ol",
        "outputId": "76d52309-9547-4cf5-fab8-6773b5166b79"
      },
      "execution_count": 104,
      "outputs": [
        {
          "output_type": "stream",
          "name": "stdout",
          "text": [
            "6\n"
          ]
        }
      ]
    },
    {
      "cell_type": "markdown",
      "source": [
        "#11. Si un número está dentro de un rango."
      ],
      "metadata": {
        "id": "QL06xiY76Jzr"
      }
    },
    {
      "cell_type": "code",
      "source": [
        "a=int(input(\"Ingrese un número: \"))\n",
        "\n",
        "def num(x,y):\n",
        "    if a>=x and a<=y:\n",
        "      print(a, \"está en el rango\")\n",
        "    else:\n",
        "      print(a, \"no está en el rango\")"
      ],
      "metadata": {
        "colab": {
          "base_uri": "https://localhost:8080/"
        },
        "id": "Wk4dVZsd6N6a",
        "outputId": "32654e4f-d987-4228-bd18-13a684d807f5"
      },
      "execution_count": 125,
      "outputs": [
        {
          "name": "stdout",
          "output_type": "stream",
          "text": [
            "Ingrese un número: 8\n"
          ]
        }
      ]
    },
    {
      "cell_type": "code",
      "source": [
        "num(0,10)"
      ],
      "metadata": {
        "colab": {
          "base_uri": "https://localhost:8080/"
        },
        "id": "i1Hh4TQh9XME",
        "outputId": "d07db720-1fd3-42e1-f5ec-d0d2d7868d3f"
      },
      "execution_count": 126,
      "outputs": [
        {
          "output_type": "stream",
          "name": "stdout",
          "text": [
            "8 está en el rango\n"
          ]
        }
      ]
    },
    {
      "cell_type": "markdown",
      "source": [
        "#12. Capture el número de mayúsculas y minúsculas en una oración."
      ],
      "metadata": {
        "id": "iwovX7oP6WTz"
      }
    },
    {
      "cell_type": "code",
      "source": [
        "a=str(input(\"Ingrese una palabra: \"))\n",
        "ejemplo=[a,b,c,d]\n",
        "print(ejemplo)\n",
        "def suma(ejemplo):\n",
        "  r=ejemplo[0],  ejemplo[1],  ejemplo[2],  ejemplo[3]\n",
        "  print(r)"
      ],
      "metadata": {
        "colab": {
          "base_uri": "https://localhost:8080/"
        },
        "id": "QRH1VMtG6dcz",
        "outputId": "48e92e4f-c89e-4d3c-a98f-d424aa52def9"
      },
      "execution_count": 132,
      "outputs": [
        {
          "output_type": "stream",
          "name": "stdout",
          "text": [
            "Ingrese una palabra: dada\n",
            "['dada', 5, 6, 3]\n"
          ]
        }
      ]
    },
    {
      "cell_type": "code",
      "source": [
        "suma(ejemplo)"
      ],
      "metadata": {
        "colab": {
          "base_uri": "https://localhost:8080/",
          "height": 269
        },
        "id": "sfw2jiIs-bPf",
        "outputId": "b7725924-c42d-4c5d-9741-c1f2e7df8ba5"
      },
      "execution_count": 133,
      "outputs": [
        {
          "output_type": "error",
          "ename": "TypeError",
          "evalue": "ignored",
          "traceback": [
            "\u001b[0;31m---------------------------------------------------------------------------\u001b[0m",
            "\u001b[0;31mTypeError\u001b[0m                                 Traceback (most recent call last)",
            "\u001b[0;32m<ipython-input-133-0d255f39017b>\u001b[0m in \u001b[0;36m<module>\u001b[0;34m\u001b[0m\n\u001b[0;32m----> 1\u001b[0;31m \u001b[0msuma\u001b[0m\u001b[0;34m(\u001b[0m\u001b[0mejemplo\u001b[0m\u001b[0;34m)\u001b[0m\u001b[0;34m\u001b[0m\u001b[0;34m\u001b[0m\u001b[0m\n\u001b[0m",
            "\u001b[0;32m<ipython-input-132-fb5335c13148>\u001b[0m in \u001b[0;36msuma\u001b[0;34m(ejemplo)\u001b[0m\n\u001b[1;32m      3\u001b[0m \u001b[0mprint\u001b[0m\u001b[0;34m(\u001b[0m\u001b[0mejemplo\u001b[0m\u001b[0;34m)\u001b[0m\u001b[0;34m\u001b[0m\u001b[0;34m\u001b[0m\u001b[0m\n\u001b[1;32m      4\u001b[0m \u001b[0;32mdef\u001b[0m \u001b[0msuma\u001b[0m\u001b[0;34m(\u001b[0m\u001b[0mejemplo\u001b[0m\u001b[0;34m)\u001b[0m\u001b[0;34m:\u001b[0m\u001b[0;34m\u001b[0m\u001b[0;34m\u001b[0m\u001b[0m\n\u001b[0;32m----> 5\u001b[0;31m   \u001b[0mr\u001b[0m\u001b[0;34m=\u001b[0m\u001b[0mejemplo\u001b[0m\u001b[0;34m[\u001b[0m\u001b[0;36m0\u001b[0m\u001b[0;34m]\u001b[0m \u001b[0;34m+\u001b[0m \u001b[0mejemplo\u001b[0m\u001b[0;34m[\u001b[0m\u001b[0;36m1\u001b[0m\u001b[0;34m]\u001b[0m \u001b[0;34m+\u001b[0m \u001b[0mejemplo\u001b[0m\u001b[0;34m[\u001b[0m\u001b[0;36m2\u001b[0m\u001b[0;34m]\u001b[0m \u001b[0;34m+\u001b[0m \u001b[0mejemplo\u001b[0m\u001b[0;34m[\u001b[0m\u001b[0;36m3\u001b[0m\u001b[0;34m]\u001b[0m\u001b[0;34m\u001b[0m\u001b[0;34m\u001b[0m\u001b[0m\n\u001b[0m\u001b[1;32m      6\u001b[0m   \u001b[0mprint\u001b[0m\u001b[0;34m(\u001b[0m\u001b[0mr\u001b[0m\u001b[0;34m)\u001b[0m\u001b[0;34m\u001b[0m\u001b[0;34m\u001b[0m\u001b[0m\n",
            "\u001b[0;31mTypeError\u001b[0m: can only concatenate str (not \"int\") to str"
          ]
        }
      ]
    },
    {
      "cell_type": "markdown",
      "source": [
        "#13. El ejercicio anterior, pero almacene los resultados en un diccionario."
      ],
      "metadata": {
        "id": "kbVATJsY6esi"
      }
    },
    {
      "cell_type": "code",
      "source": [],
      "metadata": {
        "id": "5EDaFjdm6jNi"
      },
      "execution_count": null,
      "outputs": []
    },
    {
      "cell_type": "markdown",
      "source": [
        "#14. . Reciba una lista y retorne sólo los elementos pares"
      ],
      "metadata": {
        "id": "aUB4lYHc6kd7"
      }
    },
    {
      "cell_type": "code",
      "source": [
        "pares=[23,23,43,64]\n",
        "def totalpares(pares):\n",
        "  w=len(pares)\n",
        "  for i in range(0,w):\n",
        "    if pares[i]%2==0:\n",
        "      print(pares[i])\n",
        " \n",
        "totalpares(pares)"
      ],
      "metadata": {
        "colab": {
          "base_uri": "https://localhost:8080/"
        },
        "id": "D67euXgn6pND",
        "outputId": "52415e72-3bd0-42c3-f885-9d91ce1cebf7"
      },
      "execution_count": 134,
      "outputs": [
        {
          "output_type": "stream",
          "name": "stdout",
          "text": [
            "64\n"
          ]
        }
      ]
    },
    {
      "cell_type": "markdown",
      "source": [
        "#15. Reciba una lista y retorne sólo los elementos de posición impar"
      ],
      "metadata": {
        "id": "uFrCYiG96rzC"
      }
    },
    {
      "cell_type": "code",
      "source": [
        "impares=[23,23,43,64]\n",
        "def totalimpares(impares):\n",
        "  w=len(impares)\n",
        "  totalimpare=0\n",
        "  for i in range(0,w,2):\n",
        "    print(impares[i])\n",
        "\n",
        "totalimpares(impares)"
      ],
      "metadata": {
        "colab": {
          "base_uri": "https://localhost:8080/"
        },
        "id": "mzz8m9KG6vvW",
        "outputId": "203ddac1-d725-41d7-868d-2fe729c9a314"
      },
      "execution_count": 135,
      "outputs": [
        {
          "output_type": "stream",
          "name": "stdout",
          "text": [
            "23\n",
            "43\n"
          ]
        }
      ]
    },
    {
      "cell_type": "markdown",
      "source": [
        "#16. Recibir un número y decir si es perfecto o no. Ejemplo: 6 es perfecto, porque la suma de sus divisores es 6 (1+2+3)"
      ],
      "metadata": {
        "id": "6yXozshi6wtt"
      }
    },
    {
      "cell_type": "code",
      "source": [],
      "metadata": {
        "id": "XwMtuKHT6171"
      },
      "execution_count": null,
      "outputs": []
    },
    {
      "cell_type": "markdown",
      "source": [
        "#17. Chequear si una palabra es palíndromo o no. Ejemplo: “Ana” es un palíndromo"
      ],
      "metadata": {
        "id": "WE4KbjY06-9p"
      }
    },
    {
      "cell_type": "code",
      "source": [
        "def invertir(p):\n",
        "  x=len(p)\n",
        "  x=p[x::-1]\n",
        "  if p==x:\n",
        "    print(\"Es palíndromo\")\n",
        "  else:\n",
        "    print(\"No es palíndromo\")\n",
        "\n",
        "p=str(input(\"Escribe una palabra \"))\n",
        "invertir(p)"
      ],
      "metadata": {
        "colab": {
          "base_uri": "https://localhost:8080/"
        },
        "id": "0LhdlZAG7COq",
        "outputId": "81d1b95c-f375-4291-d900-da0a1511591a"
      },
      "execution_count": 145,
      "outputs": [
        {
          "output_type": "stream",
          "name": "stdout",
          "text": [
            "Escribe una palabra ana\n",
            "Es palíndromo\n"
          ]
        }
      ]
    },
    {
      "cell_type": "markdown",
      "source": [
        "#18. Imprimir la fila n del triángulo de pascal\n"
      ],
      "metadata": {
        "id": "_PaxD9TB7F0p"
      }
    },
    {
      "cell_type": "code",
      "source": [],
      "metadata": {
        "id": "IU_gFBjk7Kq3"
      },
      "execution_count": null,
      "outputs": []
    },
    {
      "cell_type": "markdown",
      "source": [
        "#19. Imprimir una frase tipo oración. Ejemplo: Ingresa: esta es una oración e imprime Esta es una oración"
      ],
      "metadata": {
        "id": "0sDMYYPa7MXn"
      }
    },
    {
      "cell_type": "code",
      "source": [],
      "metadata": {
        "id": "dHCw_BZO7UsX"
      },
      "execution_count": null,
      "outputs": []
    },
    {
      "cell_type": "markdown",
      "source": [
        "#20. Acepte palabras separadas por – y las ordene alfabéticamente. Ejemplo: ingresa verde-rojo-amarillo-blanco-negro Regresa: amarillo-blanco-negro-rojo-verde"
      ],
      "metadata": {
        "id": "R7KxTzqq7W-g"
      }
    },
    {
      "cell_type": "code",
      "source": [],
      "metadata": {
        "id": "OSy9resg7dIA"
      },
      "execution_count": null,
      "outputs": []
    },
    {
      "cell_type": "markdown",
      "source": [
        "#Lambda\n",
        "Es una función anónima\n",
        "Se invoca con la palabra clave lambda\n",
        "\n",
        "Declarar\n",
        "lambda (variable):(función)"
      ],
      "metadata": {
        "id": "-2OqYtENEEQM"
      }
    },
    {
      "cell_type": "code",
      "source": [
        "#Aquí x es una variable local\n",
        "a=lambda x:x+2"
      ],
      "metadata": {
        "id": "MudATsDnEdB6"
      },
      "execution_count": 146,
      "outputs": []
    },
    {
      "cell_type": "code",
      "source": [
        "print(a(1))"
      ],
      "metadata": {
        "colab": {
          "base_uri": "https://localhost:8080/"
        },
        "id": "YU1OGq9AEivy",
        "outputId": "27ab9cb5-4328-47fe-dc5f-60601112ce82"
      },
      "execution_count": 147,
      "outputs": [
        {
          "output_type": "stream",
          "name": "stdout",
          "text": [
            "3\n"
          ]
        }
      ]
    },
    {
      "cell_type": "code",
      "source": [
        "#Aquí x es una variable global\n",
        "x=int(input(\"Ingrese un número: \"))\n",
        "print(a(x))"
      ],
      "metadata": {
        "colab": {
          "base_uri": "https://localhost:8080/"
        },
        "id": "45D9VxtBElLz",
        "outputId": "6034f354-a941-4ee2-e713-7ae8b268d4e8"
      },
      "execution_count": 149,
      "outputs": [
        {
          "output_type": "stream",
          "name": "stdout",
          "text": [
            "Ingrese un número: 5\n",
            "7\n"
          ]
        }
      ]
    },
    {
      "cell_type": "code",
      "source": [
        "par=lambda x:x%2==0"
      ],
      "metadata": {
        "id": "ODXUvV72FXvn"
      },
      "execution_count": 150,
      "outputs": []
    },
    {
      "cell_type": "code",
      "source": [
        "print(par(2))"
      ],
      "metadata": {
        "colab": {
          "base_uri": "https://localhost:8080/"
        },
        "id": "TJUagQzcFjWF",
        "outputId": "25a6190b-0bea-4eda-ccbc-488e837b3370"
      },
      "execution_count": 151,
      "outputs": [
        {
          "output_type": "stream",
          "name": "stdout",
          "text": [
            "True\n"
          ]
        }
      ]
    },
    {
      "cell_type": "code",
      "source": [
        "if par:\n",
        "  print(\"Es par\")\n",
        "else:\n",
        "  print(\"Es impar\")"
      ],
      "metadata": {
        "colab": {
          "base_uri": "https://localhost:8080/"
        },
        "id": "_rnq9fD1FtFN",
        "outputId": "77b69516-29b3-4d3e-e71e-7e3a91223dc3"
      },
      "execution_count": 152,
      "outputs": [
        {
          "output_type": "stream",
          "name": "stdout",
          "text": [
            "Es par\n"
          ]
        }
      ]
    }
  ]
}