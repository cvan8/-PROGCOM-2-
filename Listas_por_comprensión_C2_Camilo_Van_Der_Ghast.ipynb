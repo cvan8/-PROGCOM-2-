{
  "nbformat": 4,
  "nbformat_minor": 0,
  "metadata": {
    "colab": {
      "provenance": []
    },
    "kernelspec": {
      "name": "python3",
      "display_name": "Python 3"
    },
    "language_info": {
      "name": "python"
    }
  },
  "cells": [
    {
      "cell_type": "markdown",
      "source": [
        "#Lista por comprensión"
      ],
      "metadata": {
        "id": "-MJ6Y6YF8rct"
      }
    },
    {
      "cell_type": "markdown",
      "source": [
        "Sintaxis newlist = [ expresión(elemento) for n in oldList si condición ]"
      ],
      "metadata": {
        "id": "YybIsKOr9Ugq"
      }
    },
    {
      "cell_type": "markdown",
      "source": [
        "Técnicamente es colocar primero la expresión u operación y luego la condición."
      ],
      "metadata": {
        "id": "-j2s_jQP9kDp"
      }
    },
    {
      "cell_type": "code",
      "source": [
        "numeros=[(n*2) for n in range (1,9)]\n",
        "print(numeros)"
      ],
      "metadata": {
        "colab": {
          "base_uri": "https://localhost:8080/"
        },
        "id": "UoEilS5u82Rb",
        "outputId": "abc7c503-8b88-4b5c-b68d-64828837004a"
      },
      "execution_count": null,
      "outputs": [
        {
          "output_type": "stream",
          "name": "stdout",
          "text": [
            "[2, 4, 6, 8, 10, 12, 14, 16]\n"
          ]
        }
      ]
    },
    {
      "cell_type": "markdown",
      "source": [
        "Ventajas:\n",
        "- Más eficiente en tiempo y espacio que los bucles.\n",
        "- Requiere menos líneas de código.\n",
        "- Transforma una declaración iterativa en una fórmula."
      ],
      "metadata": {
        "id": "vn4jwdih9wPh"
      }
    },
    {
      "cell_type": "code",
      "source": [
        "cadenas=[\"*\" * n for n in range(1,6)]\n",
        "print(cadenas)"
      ],
      "metadata": {
        "colab": {
          "base_uri": "https://localhost:8080/"
        },
        "id": "5gouPqe6-aL5",
        "outputId": "f8e327e7-1f1c-4382-fe43-d74c2f6b0f23"
      },
      "execution_count": null,
      "outputs": [
        {
          "output_type": "stream",
          "name": "stdout",
          "text": [
            "['*', '**', '***', '****', '*****']\n"
          ]
        }
      ]
    },
    {
      "cell_type": "code",
      "source": [
        "número=[2,5,6,9,10]\n",
        "cuadrados=[(n**2) for n in número]\n",
        "print(cuadrados)"
      ],
      "metadata": {
        "colab": {
          "base_uri": "https://localhost:8080/"
        },
        "id": "INZpfdDRAlvG",
        "outputId": "e255647d-0b97-4628-b3ca-696f366e95fc"
      },
      "execution_count": null,
      "outputs": [
        {
          "output_type": "stream",
          "name": "stdout",
          "text": [
            "[4, 25, 36, 81, 100]\n"
          ]
        }
      ]
    },
    {
      "cell_type": "code",
      "source": [
        "cadena= \"programación\"\n",
        "letras=[]\n",
        "for letra in cadena:\n",
        "  letras.append(letra)\n",
        "\n",
        "  print(letras)"
      ],
      "metadata": {
        "colab": {
          "base_uri": "https://localhost:8080/"
        },
        "id": "U8t3wRA5A1U9",
        "outputId": "0f961013-4026-4aef-a61b-cec5425150f3"
      },
      "execution_count": null,
      "outputs": [
        {
          "output_type": "stream",
          "name": "stdout",
          "text": [
            "['p']\n",
            "['p', 'r']\n",
            "['p', 'r', 'o']\n",
            "['p', 'r', 'o', 'g']\n",
            "['p', 'r', 'o', 'g', 'r']\n",
            "['p', 'r', 'o', 'g', 'r', 'a']\n",
            "['p', 'r', 'o', 'g', 'r', 'a', 'm']\n",
            "['p', 'r', 'o', 'g', 'r', 'a', 'm', 'a']\n",
            "['p', 'r', 'o', 'g', 'r', 'a', 'm', 'a', 'c']\n",
            "['p', 'r', 'o', 'g', 'r', 'a', 'm', 'a', 'c', 'i']\n",
            "['p', 'r', 'o', 'g', 'r', 'a', 'm', 'a', 'c', 'i', 'ó']\n",
            "['p', 'r', 'o', 'g', 'r', 'a', 'm', 'a', 'c', 'i', 'ó', 'n']\n"
          ]
        }
      ]
    },
    {
      "cell_type": "code",
      "source": [
        "cadena = \"python\"\n",
        "letras =[letra for letra in cadena]\n",
        "print(letras)"
      ],
      "metadata": {
        "id": "ZM0ZZM-gChnh"
      },
      "execution_count": null,
      "outputs": []
    },
    {
      "cell_type": "markdown",
      "source": [
        "\n",
        "\n",
        "---\n",
        "\n"
      ],
      "metadata": {
        "id": "_Za_2yvdCjQJ"
      }
    },
    {
      "cell_type": "code",
      "source": [
        "x=input(\"Ingrese la palabra que desee: \")\n",
        "lista=[n for n in x]\n",
        "print(lista)"
      ],
      "metadata": {
        "id": "WSI160VpCm2R"
      },
      "execution_count": null,
      "outputs": []
    },
    {
      "cell_type": "markdown",
      "source": [
        "\n",
        "\n",
        "---\n",
        "\n"
      ],
      "metadata": {
        "id": "gXgPrAfEDKyY"
      }
    },
    {
      "cell_type": "code",
      "source": [
        "lista1=[2,7,10,9,8]\n",
        "lista2=[elementos**2 for elementos in lista1 if elementos%2==0]\n",
        "print(\"Nueva lista\", lista2)"
      ],
      "metadata": {
        "colab": {
          "base_uri": "https://localhost:8080/"
        },
        "id": "gZ15mBfuDMO4",
        "outputId": "e6a434b0-8c34-43c8-e856-8379950c3482"
      },
      "execution_count": null,
      "outputs": [
        {
          "output_type": "stream",
          "name": "stdout",
          "text": [
            "Nueva lista [4, 100, 64]\n"
          ]
        }
      ]
    },
    {
      "cell_type": "markdown",
      "source": [
        "\n",
        "\n",
        "---\n",
        "\n"
      ],
      "metadata": {
        "id": "frnFXh2QEA4b"
      }
    },
    {
      "cell_type": "code",
      "source": [
        "#randrange: Rango donde se va a generar la lista aleatoria.\n",
        "import random\n",
        "capitan= [random.randrange(1,30) for i in range(9)] \n",
        "print(\"Imprimir números aleatorios de la lista : \", str(capitan))"
      ],
      "metadata": {
        "colab": {
          "base_uri": "https://localhost:8080/"
        },
        "id": "VyQXr7jTEB37",
        "outputId": "8b5f6131-1973-4363-cdc0-a08be4d61d71"
      },
      "execution_count": null,
      "outputs": [
        {
          "output_type": "stream",
          "name": "stdout",
          "text": [
            "Imprimir números aleatorios de la lista :  [28, 20, 8, 13, 10, 7, 13, 25, 7]\n"
          ]
        }
      ]
    },
    {
      "cell_type": "markdown",
      "source": [
        "\n",
        "\n",
        "---\n",
        "\n"
      ],
      "metadata": {
        "id": "7ULTrwlpEl-4"
      }
    },
    {
      "cell_type": "code",
      "source": [
        "#.pop: para no tome un valor determinado de una lista.\n",
        "precios=[]\n",
        "print(\"Ingrese los números de los que quieres hacer un descuento\")\n",
        "det=True\n",
        "while det:\n",
        "  num=int(input(\"Si no desea agregar más números  digite 0 \"))\n",
        "  precios.append(num)\n",
        "  det= False if num == 0 else num>0\n",
        "des=float(input(print(\"Ingrese el descuento sin el % \")))\n",
        "presdes= [precio *des/100 for precio in precios]\n",
        "presdes.pop(-1)\n",
        "print(\"Este es el valor que le debes restar a cada número\",presdes)"
      ],
      "metadata": {
        "colab": {
          "base_uri": "https://localhost:8080/"
        },
        "id": "CVJHF0HHEnxI",
        "outputId": "6afee3cb-076e-446c-96cb-a9a2defa8d0c"
      },
      "execution_count": null,
      "outputs": [
        {
          "output_type": "stream",
          "name": "stdout",
          "text": [
            "Ingrese los números de los que quieres hacer un descuento\n",
            "Si no desea agregar más números  digite 0 0\n",
            "Ingrese el descuento sin el % \n",
            "None20\n",
            "Este es el valor que le debes restar a cada número []\n"
          ]
        }
      ]
    },
    {
      "cell_type": "markdown",
      "source": [
        "\n",
        "\n",
        "---\n",
        "\n"
      ],
      "metadata": {
        "id": "XnLIYp1dHjpp"
      }
    },
    {
      "cell_type": "code",
      "source": [
        "num = []\n",
        "for i in range(6):\n",
        "  num.append(int(input(\"Introduce el número ganador: \")))\n",
        "num.sort()\n",
        "print(\"Los números ganadores del baloto son: \" + str(num))"
      ],
      "metadata": {
        "colab": {
          "base_uri": "https://localhost:8080/"
        },
        "id": "l9_8U9lkHknQ",
        "outputId": "757365ad-adec-4d4e-c8a2-be0e23d34d93"
      },
      "execution_count": null,
      "outputs": [
        {
          "output_type": "stream",
          "name": "stdout",
          "text": [
            "Introduce el número ganador: 5\n",
            "Introduce el número ganador: 4\n",
            "Introduce el número ganador: 8\n",
            "Introduce el número ganador: 7\n",
            "Introduce el número ganador: 6\n",
            "Introduce el número ganador: 2\n",
            "Los números ganadores del baloto son: [2, 4, 5, 6, 7, 8]\n"
          ]
        }
      ]
    },
    {
      "cell_type": "markdown",
      "source": [
        "---"
      ],
      "metadata": {
        "id": "COj2riHH6ZYJ"
      }
    },
    {
      "cell_type": "code",
      "source": [
        "#Tradicional\n",
        "n=int(input(\"Ingrese el número de palabras que vas a ingresar \"))\n",
        "x=0\n",
        "lista=[]\n",
        "lista1=[]\n",
        "for i in range(n):\n",
        "  l=input(\"Ingresa la palabra \")\n",
        "  if l.isupper():lista.append(l)\n",
        "  if l.islower():lista.append(l)"
      ],
      "metadata": {
        "colab": {
          "base_uri": "https://localhost:8080/"
        },
        "id": "kHKwveMJwX8R",
        "outputId": "11897ff5-7a88-4966-e2c4-448750e352e4"
      },
      "execution_count": 52,
      "outputs": [
        {
          "name": "stdout",
          "output_type": "stream",
          "text": [
            "Ingrese el número de palabras que vas a ingresar 1\n",
            "Ingresa la palabra sdfgdsf\n"
          ]
        }
      ]
    },
    {
      "cell_type": "code",
      "source": [
        "lista"
      ],
      "metadata": {
        "colab": {
          "base_uri": "https://localhost:8080/"
        },
        "id": "PQaFexOzzk1F",
        "outputId": "712419cb-0184-42a2-db9b-a1a537f0f80c"
      },
      "execution_count": 53,
      "outputs": [
        {
          "output_type": "execute_result",
          "data": {
            "text/plain": [
              "['sdfgdsf']"
            ]
          },
          "metadata": {},
          "execution_count": 53
        }
      ]
    },
    {
      "cell_type": "code",
      "source": [
        "lista1"
      ],
      "metadata": {
        "colab": {
          "base_uri": "https://localhost:8080/"
        },
        "id": "JifG9zqMzmOd",
        "outputId": "5909bea2-feba-431e-ff40-18c220fb9c3d"
      },
      "execution_count": 54,
      "outputs": [
        {
          "output_type": "execute_result",
          "data": {
            "text/plain": [
              "[]"
            ]
          },
          "metadata": {},
          "execution_count": 54
        }
      ]
    },
    {
      "cell_type": "code",
      "source": [
        "#Comprensión\n",
        "n=int(input(\"Ingrese el número de palabras que vas a ingresar \"))\n",
        "lista3=[]\n",
        "for i in range(n):\n",
        "  l=input(\"Ingrese la palabra \")\n",
        "  lista3.append(l)\n",
        "\n",
        "lista_comprimida_M=[elemento for elemento in lista if elemento.isupper()]\n",
        "lista_comprimida_m=[elemento for elemento in lista if elemento.islower()]\n",
        "\n",
        "print(\"Las palabras escritas en mayúscula son: \")\n",
        "print(lista_comprimida_M)\n",
        "print(\"Las palabras escritas en minúscula son: \")\n",
        "print(lista_comprimida_m)\n"
      ],
      "metadata": {
        "colab": {
          "base_uri": "https://localhost:8080/"
        },
        "id": "r3Sz6WF1z4Sy",
        "outputId": "b8c18da4-7ade-4d86-d686-5980503645ab"
      },
      "execution_count": 72,
      "outputs": [
        {
          "output_type": "stream",
          "name": "stdout",
          "text": [
            "Ingrese el número de palabras que vas a ingresar 2\n",
            "Ingrese la palabra A\n",
            "Ingrese la palabra b\n",
            "Las palabras escritas en mayúscula son: \n",
            "[]\n",
            "Las palabras escritas en minúscula son: \n",
            "['sdfgdsf']\n"
          ]
        }
      ]
    },
    {
      "cell_type": "code",
      "source": [
        "#Lambda\n",
        "lista_comprimida_M=list(map(lambda elemento:True if elemento.isupper()else False, lista3))\n",
        "lista_comprimida_m=list(map(lambda elemento:True if elemento.islower()else False, lista3))\n",
        "\n",
        "print(\"Las palabras escritas en mayúscula son: \")\n",
        "print(lista_comprimida_M)\n",
        "print(\"Las palabras escritas en minúscula son: \")\n",
        "print(lista_comprimida_m)"
      ],
      "metadata": {
        "id": "PKZj_U5I4ZRj"
      },
      "execution_count": null,
      "outputs": []
    },
    {
      "cell_type": "markdown",
      "source": [
        "\n",
        "\n",
        "---\n",
        "\n"
      ],
      "metadata": {
        "id": "hvc6rULPEh8Y"
      }
    },
    {
      "cell_type": "code",
      "source": [
        "#Tradicional\n",
        "def pali (word):\n",
        "   rev=word[::1]\n",
        "   return word==rev\n",
        "word=(input(\"Digite una palabra \"))\n",
        "final=pali(word)\n",
        "if final == True:\n",
        "  print(f\"{word} es una palabra palíndromo\")\n",
        "else:\n",
        "  print(f\"{word} no es una palabra palíndromo\")"
      ],
      "metadata": {
        "id": "wIHBKv0mEjHw"
      },
      "execution_count": null,
      "outputs": []
    },
    {
      "cell_type": "code",
      "source": [
        "#Lambda\n",
        "c=input(\"Digita la cantidad de elementos que deseas ingresar: \")\n",
        "lista1=[]\n",
        "for i in range (c):\n",
        "  word=input(\"Escribe aquí: \").lower()\n",
        "  lista1.append(word)\n",
        "print(lista1)\n",
        "lista2=list(map(lambda x:True if x==x[::-1] else False,lista1))\n",
        "lista2"
      ],
      "metadata": {
        "id": "WPSkDyUK7x79"
      },
      "execution_count": null,
      "outputs": []
    },
    {
      "cell_type": "markdown",
      "source": [
        "\n",
        "\n",
        "---\n",
        "\n"
      ],
      "metadata": {
        "id": "TnSieoDpEjkY"
      }
    },
    {
      "cell_type": "code",
      "source": [
        "#Tradicional\n",
        "import random\n",
        "stock=[\"martillo\", \"alicate\", \"clavo\", \"perno\"]\n",
        "cality=[\"GOOD\", \"FAIL\"]\n",
        "a=[]\n",
        "for i in stock:\n",
        "  a.append((i,random.choice(cality)))\n",
        "listg=[]\n",
        "listf=[]\n",
        "for x in a:\n",
        "  if \"GOOD\" in x:\n",
        "    listg.append(x)\n",
        "    print(listg)\n",
        "  elif \"FAIL\" in x:\n",
        "    listf.append(x)\n",
        "print(\"Estos no deberías de comprar: \", listf)  \n",
        "print(\"Estos deberías de comprar: \",listg)"
      ],
      "metadata": {
        "colab": {
          "base_uri": "https://localhost:8080/"
        },
        "id": "nTBO3b9l-hnt",
        "outputId": "0e86a229-e6f8-47fb-bd83-743a93f9772d"
      },
      "execution_count": 9,
      "outputs": [
        {
          "output_type": "stream",
          "name": "stdout",
          "text": [
            "[('martillo', 'GOOD')]\n",
            "[('martillo', 'GOOD'), ('alicate', 'GOOD')]\n",
            "Estos no deberías de comprar:  [('clavo', 'FAIL'), ('perno', 'FAIL')]\n",
            "Estos deberías de comprar:  [('martillo', 'GOOD'), ('alicate', 'GOOD')]\n"
          ]
        }
      ]
    },
    {
      "cell_type": "code",
      "source": [
        "#Comprensión\n",
        "import random\n",
        "stock=[\"martillo\", \"alicate\", \"clavo\", \"perno\"]\n",
        "cality=[\"GOOD\", \"FAIL\"]\n",
        "a=[]\n",
        "for i in stock:\n",
        "  a.append((i,random.choice(cality)))\n",
        "listg=[]\n",
        "listf=[]\n",
        "listg=[x for x in a if \"GOOD\" in x]\n",
        "listf=[x for x in a if \"FAIL\" in x]\n",
        "print(listf,listg)"
      ],
      "metadata": {
        "colab": {
          "base_uri": "https://localhost:8080/"
        },
        "id": "h9qMCKPP_60w",
        "outputId": "743834fd-dca3-421b-a69b-242beb175fec"
      },
      "execution_count": 7,
      "outputs": [
        {
          "output_type": "stream",
          "name": "stdout",
          "text": [
            "[('martillo', 'FAIL'), ('perno', 'FAIL')] [('alicate', 'GOOD'), ('clavo', 'GOOD')]\n"
          ]
        }
      ]
    },
    {
      "cell_type": "code",
      "source": [
        "#Lambda\n",
        "import random\n",
        "stock=[\"martillo\", \"alicate\", \"clavo\", \"perno\"]\n",
        "cality=[\"GOOD\", \"FAIL\"]\n",
        "a=[]\n",
        "for i in stock:\n",
        "  a.append((i,random.choice(cality)))\n",
        "listg=[]\n",
        "listf=[]\n",
        "listg= list(filter(lambda a: a == \"GOOD\",a))\n",
        "print(listg)"
      ],
      "metadata": {
        "colab": {
          "base_uri": "https://localhost:8080/"
        },
        "id": "YPWZ_fWBAT4e",
        "outputId": "546039d3-8056-46fa-c1ee-125c94c03f39"
      },
      "execution_count": 10,
      "outputs": [
        {
          "output_type": "stream",
          "name": "stdout",
          "text": [
            "[]\n"
          ]
        }
      ]
    },
    {
      "cell_type": "markdown",
      "source": [
        "---"
      ],
      "metadata": {
        "id": "WpCSNj2AG6Yz"
      }
    },
    {
      "cell_type": "code",
      "source": [
        "def capitalizar(oracion):\n",
        "  lista1=[]\n",
        "  for l in n1:\n",
        "    lista1.append(l)\n",
        "    lista1[0]=n1[0].upper()\n",
        "  print(\"\".join(lista1))"
      ],
      "metadata": {
        "id": "UPlAXXmDG88b"
      },
      "execution_count": 15,
      "outputs": []
    },
    {
      "cell_type": "code",
      "source": [
        "n1=input(\"Ingresa una oración: \")\n",
        "oracion=capitalizar(n1)\n",
        "oracion"
      ],
      "metadata": {
        "colab": {
          "base_uri": "https://localhost:8080/"
        },
        "id": "cPq4rFw6IKIt",
        "outputId": "c8f80337-1917-4ffe-d40a-2a7ae0be42da"
      },
      "execution_count": 16,
      "outputs": [
        {
          "output_type": "stream",
          "name": "stdout",
          "text": [
            "Ingresa una oración: hola\n",
            "Hola\n"
          ]
        }
      ]
    },
    {
      "cell_type": "code",
      "source": [
        "listap=[]\n",
        "n=input(\"Ingresa una oración: \")\n",
        "for l in n:\n",
        "  listap.append(l)\n",
        "  listap[0]=n[0].upper()\n",
        "  print(\"\".join(listap))"
      ],
      "metadata": {
        "colab": {
          "base_uri": "https://localhost:8080/"
        },
        "id": "UBx8Yn3CIY0b",
        "outputId": "6fc433d2-f21e-4806-dbd0-b2ddcd86dd60"
      },
      "execution_count": 22,
      "outputs": [
        {
          "output_type": "stream",
          "name": "stdout",
          "text": [
            "Ingresa una oración: hola\n",
            "H\n",
            "Ho\n",
            "Hol\n",
            "Hola\n"
          ]
        }
      ]
    },
    {
      "cell_type": "markdown",
      "source": [
        "---"
      ],
      "metadata": {
        "id": "Z8JxRb6iJys4"
      }
    },
    {
      "cell_type": "code",
      "source": [
        "#Tradicional\n",
        "import random\n",
        "palabras=[\"a\", \"e\", \"i\", \"o\", \"u\"]\n",
        "numero=[1,2,3,4,5,6,7,8,9]\n",
        "generador=[]\n",
        "for i in range(0,5):\n",
        "  generador.append(random.choice(palabras))\n",
        "  generador.append(random.choice(numero))\n",
        "print(generador)"
      ],
      "metadata": {
        "colab": {
          "base_uri": "https://localhost:8080/"
        },
        "id": "x_RUc8a0JzpA",
        "outputId": "4d023b7a-b85a-44fd-e936-e9b5de3885bf"
      },
      "execution_count": 27,
      "outputs": [
        {
          "output_type": "stream",
          "name": "stdout",
          "text": [
            "['o', 2, 'e', 1, 'o', 1, 'i', 3, 'e', 8]\n"
          ]
        }
      ]
    },
    {
      "cell_type": "code",
      "source": [
        "#Comprensión\n",
        "import random\n",
        "x=input(\"Ingrese la palabra de la contraseña: \")\n",
        "palabras=[letra for letra in x]\n",
        "numeros2=[num for num in range(0,10)]\n",
        "generador=[random.choice(palabras) or random.choice(numeros2) for num in range(0,11)]\n",
        "print(generador)"
      ],
      "metadata": {
        "colab": {
          "base_uri": "https://localhost:8080/"
        },
        "id": "_FGR-_d2Ki5C",
        "outputId": "c7ea77a0-ef57-4504-f5dd-347ef6d4ac98"
      },
      "execution_count": 28,
      "outputs": [
        {
          "output_type": "stream",
          "name": "stdout",
          "text": [
            "Ingrese la palabra de la contraseña: jaoija\n",
            "['o', 'a', 'j', 'i', 'i', 'j', 'j', 'j', 'o', 'a', 'a']\n"
          ]
        }
      ]
    },
    {
      "cell_type": "code",
      "source": [
        "#Lambda\n",
        "x=input(\"Ingrese la palabra de la contraseña: \")\n",
        "palabras=[letra for letra in x]\n",
        "números2=[num for num in range (0,10)]\n",
        "generador2=[random.choice(list(map(lambda x:x, números2))) or random.choice(sorted(palabras, key= lambda letra: letra in palabras))for num in range(0,11)]\n",
        "print(generador2)"
      ],
      "metadata": {
        "colab": {
          "base_uri": "https://localhost:8080/"
        },
        "id": "yS_XdJp7LalT",
        "outputId": "939281ee-6ad1-4c81-dd0e-300408255706"
      },
      "execution_count": 34,
      "outputs": [
        {
          "output_type": "stream",
          "name": "stdout",
          "text": [
            "Ingrese la palabra de la contraseña: hg\n",
            "[9, 1, 'h', 2, 6, 1, 1, 1, 3, 5, 8]\n"
          ]
        }
      ]
    },
    {
      "cell_type": "markdown",
      "source": [
        "---"
      ],
      "metadata": {
        "id": "rMENbzFMOMQr"
      }
    },
    {
      "cell_type": "code",
      "source": [
        "#Tradicional\n",
        "print(\"¡Hola! Soy Lucía del sistema de asignación de turnos para pasaporte de la Gobernación \\n Solo las personas mayores de edad tendrán su cita mañana en el rango de 6am a 12 pm \\n y los menores de edad la tendrán en el rango de 2pm a 6pm \\n \" )\n",
        "lista1=[('Pedro',33),('Ana',3),('Juan',13),('Carla',45)]\n",
        "lista2=[]\n",
        "lista3=[]\n",
        "for elemento in lista1:\n",
        "  if elemento[1]>=18:\n",
        "    lista2.append(elemento)\n",
        "print(f'{lista2} tendrán la cita a las 8am y 10am respectivamente')\n",
        "\n",
        "for elemento in lista1:\n",
        "  if elemento[1]<18:\n",
        "    lista3.append(elemento)\n",
        "print(f'{lista3} tendrán la cita a las 2pm y 4pm respectivamente')"
      ],
      "metadata": {
        "colab": {
          "base_uri": "https://localhost:8080/"
        },
        "id": "zsHYjyMIONgr",
        "outputId": "44a21bdd-0058-491d-b9c1-bc93414df390"
      },
      "execution_count": 35,
      "outputs": [
        {
          "output_type": "stream",
          "name": "stdout",
          "text": [
            "¡Hola! Soy Lucía del sistema de asignación de turnos para pasaporte de la Gobernación \n",
            " Solo las personas mayores de edad tendrán su cita mañana en el rango de 6am a 12 pm \n",
            " y los menores de edad la tendrán en el rango de 2pm a 6pm \n",
            " \n",
            "[('Pedro', 33), ('Carla', 45)] tendrán la cita a las 8am y 10am respectivamente\n",
            "[('Ana', 3), ('Juan', 13)] tendrán la cita a las 2pm y 4pm respectivamente\n"
          ]
        }
      ]
    },
    {
      "cell_type": "code",
      "source": [
        "#Comprensión\n",
        "print(\"¡Hola! Soy Lucía del sistema de asignación de turnos para pasaporte de la Gobernación \\n Solo las personas mayores de edad tendrán su cita mañana en el rango de 6am a 12 pm \\n y los menores de edad la tendrán en el rango de 2pm a 6pm \\n \" )\n",
        "personas=[('Pedro',33),('Ana',3),('Juan',13),('Carla',45)]\n",
        "\n",
        "\n",
        "personas_mayores=[per for per in personas if per[1]>=18]\n",
        "print(f'{personas_mayores} tendrán la cita a las 8am y 10am respectivamente')\n",
        "\n",
        "personas_menores=[per for per in personas if per[1]<18]\n",
        "print(f'{personas_menores} tendrán la cita a las 2pm y 4pm respectivamente')"
      ],
      "metadata": {
        "colab": {
          "base_uri": "https://localhost:8080/"
        },
        "id": "fTMTDm_2Pewm",
        "outputId": "6d8239bd-9d2c-4a3a-fdfc-c2443884db9a"
      },
      "execution_count": 36,
      "outputs": [
        {
          "output_type": "stream",
          "name": "stdout",
          "text": [
            "¡Hola! Soy Lucía del sistema de asignación de turnos para pasaporte de la Gobernación \n",
            " Solo las personas mayores de edad tendrán su cita mañana en el rango de 6am a 12 pm \n",
            " y los menores de edad la tendrán en el rango de 2pm a 6pm \n",
            " \n",
            "[('Pedro', 33), ('Carla', 45)] tendrán la cita a las 8am y 10am respectivamente\n",
            "[('Ana', 3), ('Juan', 13)] tendrán la cita a las 2pm y 4pm respectivamente\n"
          ]
        }
      ]
    },
    {
      "cell_type": "code",
      "source": [
        "#Lambda\n",
        "print(\"¡Hola! Soy Lucía del sistema de asignación de turnos para pasaporte de la Gobernación \\n Solo las personas mayores de edad tendrán su cita mañana en el rango de 6am a 12 pm \\n y los menores de edad la tendrán en el rango de 2pm a 6pm \\n \" )\n",
        "personas=[('Pedro',33),('Ana',3),('Juan',13),('Carla',45)]\n",
        "perma=list(filter(lambda may: may[1]>=18,personas ))\n",
        "perma\n",
        "print(f'{perma} tendrán la cita a las 8am y 10am respectivamente')\n",
        "\n",
        "perme=list(filter(lambda men: men[1]<18,personas ))\n",
        "perme\n",
        "print(f'{perme} tendrán la cita a las 2pm y 4pm respectivamente')"
      ],
      "metadata": {
        "colab": {
          "base_uri": "https://localhost:8080/"
        },
        "id": "0HNw2bNPPuIs",
        "outputId": "a0af1f3e-154f-40b8-baf8-0b17f8d20caa"
      },
      "execution_count": 37,
      "outputs": [
        {
          "output_type": "stream",
          "name": "stdout",
          "text": [
            "¡Hola! Soy Lucía del sistema de asignación de turnos para pasaporte de la Gobernación \n",
            " Solo las personas mayores de edad tendrán su cita mañana en el rango de 6am a 12 pm \n",
            " y los menores de edad la tendrán en el rango de 2pm a 6pm \n",
            " \n",
            "[('Pedro', 33), ('Carla', 45)] tendrán la cita a las 8am y 10am respectivamente\n",
            "[('Ana', 3), ('Juan', 13)] tendrán la cita a las 2pm y 4pm respectivamente\n"
          ]
        }
      ]
    }
  ]
}