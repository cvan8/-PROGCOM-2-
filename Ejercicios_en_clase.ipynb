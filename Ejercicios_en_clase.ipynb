{
  "nbformat": 4,
  "nbformat_minor": 0,
  "metadata": {
    "colab": {
      "provenance": []
    },
    "kernelspec": {
      "name": "python3",
      "display_name": "Python 3"
    },
    "language_info": {
      "name": "python"
    }
  },
  "cells": [
    {
      "cell_type": "code",
      "execution_count": 16,
      "metadata": {
        "id": "bGj8ma4Pz4HS"
      },
      "outputs": [],
      "source": [
        "class Fraccion: \n",
        "  def __init__(self,num,den):\n",
        "    self.num=num\n",
        "    self.den=den\n",
        "\n",
        "  def imprimir(self):\n",
        "    return f\"El numerador es: {self.num} el denominador es: {self.den}\"\n",
        "\n",
        "  def sumita(self,x):\n",
        "    num=self.num * x.den*x.num\n",
        "    den=self.den*x.den\n",
        "    r= Fraccion(num,den)\n",
        "    print(f\"La suma entre: {self.num}/{self.den} y {x.num}/{x.den} es: {r.num}/{r.den}\")\n",
        "    return r\n",
        "\n",
        "\n",
        "  def resta(self,z):\n",
        "    num=self.num*z.den - self.den*z.num\n",
        "    den=self.den*z.den\n",
        "    d=Fraccion(num,den)\n",
        "    print(f\"La resta entre: {self.num}/{self.den} y {z.num}/{z.den} es: {d.num}/{d.den}\")\n",
        "    return d\n",
        "\n",
        "#pi es un tipo fracción porque abajo está el num y el den\n",
        "  def divi(self,pi):\n",
        "    if self.den*pi.num !=0:\n",
        "      num=self.num*pi.den - self.den*pi.num\n",
        "      den=self.den*pi.den\n",
        "      m=Fraccion(num,den)\n",
        "      print(f\"La división :: {self.num}/{self.den} y {pi.num}/{pi.den} es: {m.num}/{m.den}\")\n",
        "    else:\n",
        "      print(\"Eso no es de diosito\")\n",
        "\n",
        "  def mul(self,x):\n",
        "    if self.den*x.num !=0:\n",
        "      num=self.num*x.num\n",
        "      den=self.den*x.den\n",
        "      t=Fraccion(num,den)\n",
        "      print(f\"La división :: {self.num}/{self.den} y {x.num}/{x.den} es: {t.num}/{t.den}\")\n",
        "      return t\n",
        "    else:\n",
        "      print(\"Error\")"
      ]
    },
    {
      "cell_type": "code",
      "source": [
        "b=Fraccion(5,9)"
      ],
      "metadata": {
        "id": "Us7iWjpd1yan"
      },
      "execution_count": 17,
      "outputs": []
    },
    {
      "cell_type": "code",
      "source": [
        "a=Fraccion(8,6)"
      ],
      "metadata": {
        "id": "jx5jtrXE1rrP"
      },
      "execution_count": 18,
      "outputs": []
    },
    {
      "cell_type": "code",
      "source": [
        "b.sumita(a)"
      ],
      "metadata": {
        "colab": {
          "base_uri": "https://localhost:8080/"
        },
        "id": "RyqitKyt1-gh",
        "outputId": "e1c11add-924d-4cca-c74d-98d280735a4b"
      },
      "execution_count": 19,
      "outputs": [
        {
          "output_type": "stream",
          "name": "stdout",
          "text": [
            "La suma entre: 5/9 y 8/6 es: 240/54\n"
          ]
        },
        {
          "output_type": "execute_result",
          "data": {
            "text/plain": [
              "<__main__.Fraccion at 0x7fb435c74dd0>"
            ]
          },
          "metadata": {},
          "execution_count": 19
        }
      ]
    },
    {
      "cell_type": "code",
      "source": [
        "b.resta(a)"
      ],
      "metadata": {
        "colab": {
          "base_uri": "https://localhost:8080/"
        },
        "id": "dfNCLlGd6Zq3",
        "outputId": "7523c3ac-6baa-4e72-c752-b9da98c39e48"
      },
      "execution_count": 20,
      "outputs": [
        {
          "output_type": "stream",
          "name": "stdout",
          "text": [
            "La resta entre: 5/9 y 8/6 es: -42/54\n"
          ]
        },
        {
          "output_type": "execute_result",
          "data": {
            "text/plain": [
              "<__main__.Fraccion at 0x7fb435d54290>"
            ]
          },
          "metadata": {},
          "execution_count": 20
        }
      ]
    },
    {
      "cell_type": "code",
      "source": [
        "b.divi(a)"
      ],
      "metadata": {
        "colab": {
          "base_uri": "https://localhost:8080/"
        },
        "id": "t2COqJn56cnf",
        "outputId": "5eb9067c-e2d7-4dbd-c7c5-3c984113a0f3"
      },
      "execution_count": 21,
      "outputs": [
        {
          "output_type": "stream",
          "name": "stdout",
          "text": [
            "La división :: 5/9 y 8/6 es: -42/54\n"
          ]
        }
      ]
    },
    {
      "cell_type": "code",
      "source": [
        "c=Fraccion(2,0)\n",
        "c.divi(b)"
      ],
      "metadata": {
        "colab": {
          "base_uri": "https://localhost:8080/"
        },
        "id": "hae5fl806f0w",
        "outputId": "26fc5353-0e8f-4c6f-8538-b793b069ab31"
      },
      "execution_count": 22,
      "outputs": [
        {
          "output_type": "stream",
          "name": "stdout",
          "text": [
            "Eso no es de diosito\n"
          ]
        }
      ]
    },
    {
      "cell_type": "code",
      "source": [
        "print(a)"
      ],
      "metadata": {
        "id": "hvPWTq7a14TJ"
      },
      "execution_count": null,
      "outputs": []
    },
    {
      "cell_type": "markdown",
      "source": [
        "Potencia"
      ],
      "metadata": {
        "id": "9QWeW8Xv-klm"
      }
    },
    {
      "cell_type": "code",
      "source": [
        "class Fraccion():\n",
        "  numo=0\n",
        "  deno=1\n",
        "  exp=0\n",
        "\n",
        "  def __init__(self,nume=0,deno=1,exp=0):\n",
        "    self.nume=nume\n",
        "    self.deno=deno\n",
        "    self.exp=exp\n",
        "\n",
        "  def potencia(self,b):\n",
        "    self.potencia=self.nume*b.exp\n",
        "    self.potencia=self.nume*b.exp\n",
        "\n",
        "  def imprime(self):\n",
        "    print(self.num,\"/\",self.deno)\n"
      ],
      "metadata": {
        "id": "RCE5ZSbP-ms2"
      },
      "execution_count": null,
      "outputs": []
    },
    {
      "cell_type": "code",
      "source": [
        "a=Fraccion(5,6)\n",
        "a.imprime()"
      ],
      "metadata": {
        "id": "eITD0MO4_gAF"
      },
      "execution_count": null,
      "outputs": []
    }
  ]
}