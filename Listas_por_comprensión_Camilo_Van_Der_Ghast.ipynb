{
  "nbformat": 4,
  "nbformat_minor": 0,
  "metadata": {
    "colab": {
      "provenance": []
    },
    "kernelspec": {
      "name": "python3",
      "display_name": "Python 3"
    },
    "language_info": {
      "name": "python"
    }
  },
  "cells": [
    {
      "cell_type": "markdown",
      "source": [
        "#Lista por comprensión"
      ],
      "metadata": {
        "id": "-MJ6Y6YF8rct"
      }
    },
    {
      "cell_type": "markdown",
      "source": [
        "Sintaxis newlist = [ expresión(elemento) for n in oldList si condición ]"
      ],
      "metadata": {
        "id": "YybIsKOr9Ugq"
      }
    },
    {
      "cell_type": "markdown",
      "source": [
        "Técnicamente es colocar primero la expresión u operación y luego la condición."
      ],
      "metadata": {
        "id": "-j2s_jQP9kDp"
      }
    },
    {
      "cell_type": "code",
      "source": [
        "numeros=[(n*2) for n in range (1,9)]\n",
        "print(numeros)"
      ],
      "metadata": {
        "colab": {
          "base_uri": "https://localhost:8080/"
        },
        "id": "UoEilS5u82Rb",
        "outputId": "abc7c503-8b88-4b5c-b68d-64828837004a"
      },
      "execution_count": 17,
      "outputs": [
        {
          "output_type": "stream",
          "name": "stdout",
          "text": [
            "[2, 4, 6, 8, 10, 12, 14, 16]\n"
          ]
        }
      ]
    },
    {
      "cell_type": "markdown",
      "source": [
        "Ventajas:\n",
        "- Más eficiente en tiempo y espacio que los bucles.\n",
        "- Requiere menos líneas de código.\n",
        "- Transforma una declaración iterativa en una fórmula."
      ],
      "metadata": {
        "id": "vn4jwdih9wPh"
      }
    },
    {
      "cell_type": "code",
      "source": [
        "cadenas=[\"*\" * n for n in range(1,6)]\n",
        "print(cadenas)"
      ],
      "metadata": {
        "colab": {
          "base_uri": "https://localhost:8080/"
        },
        "id": "5gouPqe6-aL5",
        "outputId": "f8e327e7-1f1c-4382-fe43-d74c2f6b0f23"
      },
      "execution_count": 18,
      "outputs": [
        {
          "output_type": "stream",
          "name": "stdout",
          "text": [
            "['*', '**', '***', '****', '*****']\n"
          ]
        }
      ]
    },
    {
      "cell_type": "code",
      "source": [
        "número=[2,5,6,9,10]\n",
        "cuadrados=[(n**2) for n in número]\n",
        "print(cuadrados)"
      ],
      "metadata": {
        "colab": {
          "base_uri": "https://localhost:8080/"
        },
        "id": "INZpfdDRAlvG",
        "outputId": "e255647d-0b97-4628-b3ca-696f366e95fc"
      },
      "execution_count": 20,
      "outputs": [
        {
          "output_type": "stream",
          "name": "stdout",
          "text": [
            "[4, 25, 36, 81, 100]\n"
          ]
        }
      ]
    },
    {
      "cell_type": "code",
      "source": [
        "cadena= \"programación\"\n",
        "letras=[]\n",
        "for letra in cadena:\n",
        "  letras.append(letra)\n",
        "\n",
        "  print(letras)"
      ],
      "metadata": {
        "colab": {
          "base_uri": "https://localhost:8080/"
        },
        "id": "U8t3wRA5A1U9",
        "outputId": "0f961013-4026-4aef-a61b-cec5425150f3"
      },
      "execution_count": 27,
      "outputs": [
        {
          "output_type": "stream",
          "name": "stdout",
          "text": [
            "['p']\n",
            "['p', 'r']\n",
            "['p', 'r', 'o']\n",
            "['p', 'r', 'o', 'g']\n",
            "['p', 'r', 'o', 'g', 'r']\n",
            "['p', 'r', 'o', 'g', 'r', 'a']\n",
            "['p', 'r', 'o', 'g', 'r', 'a', 'm']\n",
            "['p', 'r', 'o', 'g', 'r', 'a', 'm', 'a']\n",
            "['p', 'r', 'o', 'g', 'r', 'a', 'm', 'a', 'c']\n",
            "['p', 'r', 'o', 'g', 'r', 'a', 'm', 'a', 'c', 'i']\n",
            "['p', 'r', 'o', 'g', 'r', 'a', 'm', 'a', 'c', 'i', 'ó']\n",
            "['p', 'r', 'o', 'g', 'r', 'a', 'm', 'a', 'c', 'i', 'ó', 'n']\n"
          ]
        }
      ]
    },
    {
      "cell_type": "code",
      "source": [
        "cadena = \"python\"\n",
        "letras =[letra for letra in cadena]\n",
        "print(letras)"
      ],
      "metadata": {
        "id": "ZM0ZZM-gChnh"
      },
      "execution_count": null,
      "outputs": []
    },
    {
      "cell_type": "markdown",
      "source": [
        "\n",
        "\n",
        "---\n",
        "\n"
      ],
      "metadata": {
        "id": "_Za_2yvdCjQJ"
      }
    },
    {
      "cell_type": "code",
      "source": [
        "x=input(\"Ingrese la palabra que desee: \")\n",
        "lista=[n for n in x]\n",
        "print(lista)"
      ],
      "metadata": {
        "id": "WSI160VpCm2R"
      },
      "execution_count": null,
      "outputs": []
    },
    {
      "cell_type": "markdown",
      "source": [
        "\n",
        "\n",
        "---\n",
        "\n"
      ],
      "metadata": {
        "id": "gXgPrAfEDKyY"
      }
    },
    {
      "cell_type": "code",
      "source": [
        "lista1=[2,7,10,9,8]\n",
        "lista2=[elementos**2 for elementos in lista1 if elementos%2==0]\n",
        "print(\"Nueva lista\", lista2)"
      ],
      "metadata": {
        "colab": {
          "base_uri": "https://localhost:8080/"
        },
        "id": "gZ15mBfuDMO4",
        "outputId": "e6a434b0-8c34-43c8-e856-8379950c3482"
      },
      "execution_count": 28,
      "outputs": [
        {
          "output_type": "stream",
          "name": "stdout",
          "text": [
            "Nueva lista [4, 100, 64]\n"
          ]
        }
      ]
    },
    {
      "cell_type": "markdown",
      "source": [
        "\n",
        "\n",
        "---\n",
        "\n"
      ],
      "metadata": {
        "id": "frnFXh2QEA4b"
      }
    },
    {
      "cell_type": "code",
      "source": [
        "#randrange: Rango donde se va a generar la lista aleatoria.\n",
        "import random\n",
        "capitan= [random.randrange(1,30) for i in range(9)] \n",
        "print(\"Imprimir números aleatorios de la lista : \", str(capitan))"
      ],
      "metadata": {
        "colab": {
          "base_uri": "https://localhost:8080/"
        },
        "id": "VyQXr7jTEB37",
        "outputId": "8b5f6131-1973-4363-cdc0-a08be4d61d71"
      },
      "execution_count": 29,
      "outputs": [
        {
          "output_type": "stream",
          "name": "stdout",
          "text": [
            "Imprimir números aleatorios de la lista :  [28, 20, 8, 13, 10, 7, 13, 25, 7]\n"
          ]
        }
      ]
    },
    {
      "cell_type": "markdown",
      "source": [
        "\n",
        "\n",
        "---\n",
        "\n"
      ],
      "metadata": {
        "id": "7ULTrwlpEl-4"
      }
    },
    {
      "cell_type": "code",
      "source": [
        "#.pop: para no tome un valor determinado de una lista.\n",
        "precios=[]\n",
        "print(\"Ingrese los números de los que quieres hacer un descuento\")\n",
        "det=True\n",
        "while det:\n",
        "  num=int(input(\"Si no desea agregar más números  digite 0 \"))\n",
        "  precios.append(num)\n",
        "  det= False if num == 0 else num>0\n",
        "des=float(input(print(\"Ingrese el descuento sin el % \")))\n",
        "presdes= [precio *des/100 for precio in precios]\n",
        "presdes.pop(-1)\n",
        "print(\"Este es el valor que le debes restar a cada número\",presdes)"
      ],
      "metadata": {
        "colab": {
          "base_uri": "https://localhost:8080/"
        },
        "id": "CVJHF0HHEnxI",
        "outputId": "6afee3cb-076e-446c-96cb-a9a2defa8d0c"
      },
      "execution_count": 44,
      "outputs": [
        {
          "output_type": "stream",
          "name": "stdout",
          "text": [
            "Ingrese los números de los que quieres hacer un descuento\n",
            "Si no desea agregar más números  digite 0 0\n",
            "Ingrese el descuento sin el % \n",
            "None20\n",
            "Este es el valor que le debes restar a cada número []\n"
          ]
        }
      ]
    },
    {
      "cell_type": "markdown",
      "source": [
        "\n",
        "\n",
        "---\n",
        "\n"
      ],
      "metadata": {
        "id": "XnLIYp1dHjpp"
      }
    },
    {
      "cell_type": "code",
      "source": [
        "num = []\n",
        "for i in range(6):\n",
        "  num.append(int(input(\"Introduce el número ganador: \")))\n",
        "num.sort()\n",
        "print(\"Los números ganadores del baloto son: \" + str(num))"
      ],
      "metadata": {
        "colab": {
          "base_uri": "https://localhost:8080/"
        },
        "id": "l9_8U9lkHknQ",
        "outputId": "757365ad-adec-4d4e-c8a2-be0e23d34d93"
      },
      "execution_count": 49,
      "outputs": [
        {
          "output_type": "stream",
          "name": "stdout",
          "text": [
            "Introduce el número ganador: 5\n",
            "Introduce el número ganador: 4\n",
            "Introduce el número ganador: 8\n",
            "Introduce el número ganador: 7\n",
            "Introduce el número ganador: 6\n",
            "Introduce el número ganador: 2\n",
            "Los números ganadores del baloto son: [2, 4, 5, 6, 7, 8]\n"
          ]
        }
      ]
    },
    {
      "cell_type": "markdown",
      "source": [
        "#Diccionario de comprensión"
      ],
      "metadata": {
        "id": "--U1BGvs8wsk"
      }
    },
    {
      "cell_type": "markdown",
      "source": [
        "Camilo Andrés Van Der Ghast Barrios:"
      ],
      "metadata": {
        "id": "-QpCoO_aJJtR"
      }
    },
    {
      "cell_type": "code",
      "execution_count": 16,
      "metadata": {
        "colab": {
          "base_uri": "https://localhost:8080/"
        },
        "id": "yhJTTywLyoAK",
        "outputId": "646ca3c7-9a88-4755-e63b-c352eab8b8e6"
      },
      "outputs": [
        {
          "output_type": "stream",
          "name": "stdout",
          "text": [
            "El numero de habitantes en cada ciudad es de: {'Barranquilla': 1206000, 'Bogotá': 7181000, 'Bucaramanga': 581130, 'Pasto': 392930, 'Cucuta': 711715, 'Pamplona': 57803, 'Riohacha': 188.014}\n"
          ]
        }
      ],
      "source": [
        "ciudad = [\"Barranquilla\",\"Bogotá\",\"Bucaramanga\",\"Pasto\",\"Cucuta\",\"Pamplona\",\"Riohacha\"]\n",
        "numero_de_habitantes = [1206000,7181000,581130,392930,711715,57803,188.014]\n",
        "ciudad_nhabitantes = {ciudad:numero_de_habitantes for (ciudad,numero_de_habitantes) in zip(ciudad,numero_de_habitantes)}\n",
        "\n",
        "print(\"El numero de habitantes en cada ciudad es de: \", end=\"\")\n",
        "print(ciudad_nhabitantes)"
      ]
    },
    {
      "cell_type": "markdown",
      "source": [
        "\n",
        "\n",
        "---\n",
        "\n"
      ],
      "metadata": {
        "id": "hvc6rULPEh8Y"
      }
    },
    {
      "cell_type": "code",
      "source": [],
      "metadata": {
        "id": "wIHBKv0mEjHw"
      },
      "execution_count": null,
      "outputs": []
    },
    {
      "cell_type": "markdown",
      "source": [
        "\n",
        "\n",
        "---\n",
        "\n"
      ],
      "metadata": {
        "id": "TnSieoDpEjkY"
      }
    }
  ]
}